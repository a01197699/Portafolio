{
  "nbformat": 4,
  "nbformat_minor": 0,
  "metadata": {
    "colab": {
      "provenance": []
    },
    "kernelspec": {
      "name": "python3",
      "display_name": "Python 3"
    },
    "language_info": {
      "name": "python"
    }
  },
  "cells": [
    {
      "cell_type": "code",
      "source": [
        "import pandas as pd\n",
        "import numpy as np\n",
        "import matplotlib.pyplot as plt\n",
        "import seaborn as sns\n",
        "import warnings\n",
        "warnings.filterwarnings('ignore')"
      ],
      "metadata": {
        "id": "c47cIR0pvtL7"
      },
      "execution_count": 1,
      "outputs": []
    },
    {
      "cell_type": "code",
      "source": [
        "from sklearn import datasets\n",
        "from sklearn.datasets import load_breast_cancer\n",
        "bc = load_breast_cancer()\n",
        "df = pd.DataFrame(bc.data, columns=bc.feature_names)\n",
        "df['target'] = bc.target\n",
        "df.head() # Ver los datos para tener una idea de lo que contiene el dataset"
      ],
      "metadata": {
        "colab": {
          "base_uri": "https://localhost:8080/",
          "height": 290
        },
        "id": "JHdchublfDbW",
        "outputId": "9bdf74fa-5b21-46e7-a355-a445d31af947"
      },
      "execution_count": 2,
      "outputs": [
        {
          "output_type": "execute_result",
          "data": {
            "text/plain": [
              "   mean radius  mean texture  mean perimeter  mean area  mean smoothness  \\\n",
              "0        17.99         10.38          122.80     1001.0          0.11840   \n",
              "1        20.57         17.77          132.90     1326.0          0.08474   \n",
              "2        19.69         21.25          130.00     1203.0          0.10960   \n",
              "3        11.42         20.38           77.58      386.1          0.14250   \n",
              "4        20.29         14.34          135.10     1297.0          0.10030   \n",
              "\n",
              "   mean compactness  mean concavity  mean concave points  mean symmetry  \\\n",
              "0           0.27760          0.3001              0.14710         0.2419   \n",
              "1           0.07864          0.0869              0.07017         0.1812   \n",
              "2           0.15990          0.1974              0.12790         0.2069   \n",
              "3           0.28390          0.2414              0.10520         0.2597   \n",
              "4           0.13280          0.1980              0.10430         0.1809   \n",
              "\n",
              "   mean fractal dimension  ...  worst texture  worst perimeter  worst area  \\\n",
              "0                 0.07871  ...          17.33           184.60      2019.0   \n",
              "1                 0.05667  ...          23.41           158.80      1956.0   \n",
              "2                 0.05999  ...          25.53           152.50      1709.0   \n",
              "3                 0.09744  ...          26.50            98.87       567.7   \n",
              "4                 0.05883  ...          16.67           152.20      1575.0   \n",
              "\n",
              "   worst smoothness  worst compactness  worst concavity  worst concave points  \\\n",
              "0            0.1622             0.6656           0.7119                0.2654   \n",
              "1            0.1238             0.1866           0.2416                0.1860   \n",
              "2            0.1444             0.4245           0.4504                0.2430   \n",
              "3            0.2098             0.8663           0.6869                0.2575   \n",
              "4            0.1374             0.2050           0.4000                0.1625   \n",
              "\n",
              "   worst symmetry  worst fractal dimension  target  \n",
              "0          0.4601                  0.11890       0  \n",
              "1          0.2750                  0.08902       0  \n",
              "2          0.3613                  0.08758       0  \n",
              "3          0.6638                  0.17300       0  \n",
              "4          0.2364                  0.07678       0  \n",
              "\n",
              "[5 rows x 31 columns]"
            ],
            "text/html": [
              "\n",
              "  <div id=\"df-c1c396d4-f771-4d80-95ce-b3581212237e\" class=\"colab-df-container\">\n",
              "    <div>\n",
              "<style scoped>\n",
              "    .dataframe tbody tr th:only-of-type {\n",
              "        vertical-align: middle;\n",
              "    }\n",
              "\n",
              "    .dataframe tbody tr th {\n",
              "        vertical-align: top;\n",
              "    }\n",
              "\n",
              "    .dataframe thead th {\n",
              "        text-align: right;\n",
              "    }\n",
              "</style>\n",
              "<table border=\"1\" class=\"dataframe\">\n",
              "  <thead>\n",
              "    <tr style=\"text-align: right;\">\n",
              "      <th></th>\n",
              "      <th>mean radius</th>\n",
              "      <th>mean texture</th>\n",
              "      <th>mean perimeter</th>\n",
              "      <th>mean area</th>\n",
              "      <th>mean smoothness</th>\n",
              "      <th>mean compactness</th>\n",
              "      <th>mean concavity</th>\n",
              "      <th>mean concave points</th>\n",
              "      <th>mean symmetry</th>\n",
              "      <th>mean fractal dimension</th>\n",
              "      <th>...</th>\n",
              "      <th>worst texture</th>\n",
              "      <th>worst perimeter</th>\n",
              "      <th>worst area</th>\n",
              "      <th>worst smoothness</th>\n",
              "      <th>worst compactness</th>\n",
              "      <th>worst concavity</th>\n",
              "      <th>worst concave points</th>\n",
              "      <th>worst symmetry</th>\n",
              "      <th>worst fractal dimension</th>\n",
              "      <th>target</th>\n",
              "    </tr>\n",
              "  </thead>\n",
              "  <tbody>\n",
              "    <tr>\n",
              "      <th>0</th>\n",
              "      <td>17.99</td>\n",
              "      <td>10.38</td>\n",
              "      <td>122.80</td>\n",
              "      <td>1001.0</td>\n",
              "      <td>0.11840</td>\n",
              "      <td>0.27760</td>\n",
              "      <td>0.3001</td>\n",
              "      <td>0.14710</td>\n",
              "      <td>0.2419</td>\n",
              "      <td>0.07871</td>\n",
              "      <td>...</td>\n",
              "      <td>17.33</td>\n",
              "      <td>184.60</td>\n",
              "      <td>2019.0</td>\n",
              "      <td>0.1622</td>\n",
              "      <td>0.6656</td>\n",
              "      <td>0.7119</td>\n",
              "      <td>0.2654</td>\n",
              "      <td>0.4601</td>\n",
              "      <td>0.11890</td>\n",
              "      <td>0</td>\n",
              "    </tr>\n",
              "    <tr>\n",
              "      <th>1</th>\n",
              "      <td>20.57</td>\n",
              "      <td>17.77</td>\n",
              "      <td>132.90</td>\n",
              "      <td>1326.0</td>\n",
              "      <td>0.08474</td>\n",
              "      <td>0.07864</td>\n",
              "      <td>0.0869</td>\n",
              "      <td>0.07017</td>\n",
              "      <td>0.1812</td>\n",
              "      <td>0.05667</td>\n",
              "      <td>...</td>\n",
              "      <td>23.41</td>\n",
              "      <td>158.80</td>\n",
              "      <td>1956.0</td>\n",
              "      <td>0.1238</td>\n",
              "      <td>0.1866</td>\n",
              "      <td>0.2416</td>\n",
              "      <td>0.1860</td>\n",
              "      <td>0.2750</td>\n",
              "      <td>0.08902</td>\n",
              "      <td>0</td>\n",
              "    </tr>\n",
              "    <tr>\n",
              "      <th>2</th>\n",
              "      <td>19.69</td>\n",
              "      <td>21.25</td>\n",
              "      <td>130.00</td>\n",
              "      <td>1203.0</td>\n",
              "      <td>0.10960</td>\n",
              "      <td>0.15990</td>\n",
              "      <td>0.1974</td>\n",
              "      <td>0.12790</td>\n",
              "      <td>0.2069</td>\n",
              "      <td>0.05999</td>\n",
              "      <td>...</td>\n",
              "      <td>25.53</td>\n",
              "      <td>152.50</td>\n",
              "      <td>1709.0</td>\n",
              "      <td>0.1444</td>\n",
              "      <td>0.4245</td>\n",
              "      <td>0.4504</td>\n",
              "      <td>0.2430</td>\n",
              "      <td>0.3613</td>\n",
              "      <td>0.08758</td>\n",
              "      <td>0</td>\n",
              "    </tr>\n",
              "    <tr>\n",
              "      <th>3</th>\n",
              "      <td>11.42</td>\n",
              "      <td>20.38</td>\n",
              "      <td>77.58</td>\n",
              "      <td>386.1</td>\n",
              "      <td>0.14250</td>\n",
              "      <td>0.28390</td>\n",
              "      <td>0.2414</td>\n",
              "      <td>0.10520</td>\n",
              "      <td>0.2597</td>\n",
              "      <td>0.09744</td>\n",
              "      <td>...</td>\n",
              "      <td>26.50</td>\n",
              "      <td>98.87</td>\n",
              "      <td>567.7</td>\n",
              "      <td>0.2098</td>\n",
              "      <td>0.8663</td>\n",
              "      <td>0.6869</td>\n",
              "      <td>0.2575</td>\n",
              "      <td>0.6638</td>\n",
              "      <td>0.17300</td>\n",
              "      <td>0</td>\n",
              "    </tr>\n",
              "    <tr>\n",
              "      <th>4</th>\n",
              "      <td>20.29</td>\n",
              "      <td>14.34</td>\n",
              "      <td>135.10</td>\n",
              "      <td>1297.0</td>\n",
              "      <td>0.10030</td>\n",
              "      <td>0.13280</td>\n",
              "      <td>0.1980</td>\n",
              "      <td>0.10430</td>\n",
              "      <td>0.1809</td>\n",
              "      <td>0.05883</td>\n",
              "      <td>...</td>\n",
              "      <td>16.67</td>\n",
              "      <td>152.20</td>\n",
              "      <td>1575.0</td>\n",
              "      <td>0.1374</td>\n",
              "      <td>0.2050</td>\n",
              "      <td>0.4000</td>\n",
              "      <td>0.1625</td>\n",
              "      <td>0.2364</td>\n",
              "      <td>0.07678</td>\n",
              "      <td>0</td>\n",
              "    </tr>\n",
              "  </tbody>\n",
              "</table>\n",
              "<p>5 rows × 31 columns</p>\n",
              "</div>\n",
              "    <div class=\"colab-df-buttons\">\n",
              "\n",
              "  <div class=\"colab-df-container\">\n",
              "    <button class=\"colab-df-convert\" onclick=\"convertToInteractive('df-c1c396d4-f771-4d80-95ce-b3581212237e')\"\n",
              "            title=\"Convert this dataframe to an interactive table.\"\n",
              "            style=\"display:none;\">\n",
              "\n",
              "  <svg xmlns=\"http://www.w3.org/2000/svg\" height=\"24px\" viewBox=\"0 -960 960 960\">\n",
              "    <path d=\"M120-120v-720h720v720H120Zm60-500h600v-160H180v160Zm220 220h160v-160H400v160Zm0 220h160v-160H400v160ZM180-400h160v-160H180v160Zm440 0h160v-160H620v160ZM180-180h160v-160H180v160Zm440 0h160v-160H620v160Z\"/>\n",
              "  </svg>\n",
              "    </button>\n",
              "\n",
              "  <style>\n",
              "    .colab-df-container {\n",
              "      display:flex;\n",
              "      gap: 12px;\n",
              "    }\n",
              "\n",
              "    .colab-df-convert {\n",
              "      background-color: #E8F0FE;\n",
              "      border: none;\n",
              "      border-radius: 50%;\n",
              "      cursor: pointer;\n",
              "      display: none;\n",
              "      fill: #1967D2;\n",
              "      height: 32px;\n",
              "      padding: 0 0 0 0;\n",
              "      width: 32px;\n",
              "    }\n",
              "\n",
              "    .colab-df-convert:hover {\n",
              "      background-color: #E2EBFA;\n",
              "      box-shadow: 0px 1px 2px rgba(60, 64, 67, 0.3), 0px 1px 3px 1px rgba(60, 64, 67, 0.15);\n",
              "      fill: #174EA6;\n",
              "    }\n",
              "\n",
              "    .colab-df-buttons div {\n",
              "      margin-bottom: 4px;\n",
              "    }\n",
              "\n",
              "    [theme=dark] .colab-df-convert {\n",
              "      background-color: #3B4455;\n",
              "      fill: #D2E3FC;\n",
              "    }\n",
              "\n",
              "    [theme=dark] .colab-df-convert:hover {\n",
              "      background-color: #434B5C;\n",
              "      box-shadow: 0px 1px 3px 1px rgba(0, 0, 0, 0.15);\n",
              "      filter: drop-shadow(0px 1px 2px rgba(0, 0, 0, 0.3));\n",
              "      fill: #FFFFFF;\n",
              "    }\n",
              "  </style>\n",
              "\n",
              "    <script>\n",
              "      const buttonEl =\n",
              "        document.querySelector('#df-c1c396d4-f771-4d80-95ce-b3581212237e button.colab-df-convert');\n",
              "      buttonEl.style.display =\n",
              "        google.colab.kernel.accessAllowed ? 'block' : 'none';\n",
              "\n",
              "      async function convertToInteractive(key) {\n",
              "        const element = document.querySelector('#df-c1c396d4-f771-4d80-95ce-b3581212237e');\n",
              "        const dataTable =\n",
              "          await google.colab.kernel.invokeFunction('convertToInteractive',\n",
              "                                                    [key], {});\n",
              "        if (!dataTable) return;\n",
              "\n",
              "        const docLinkHtml = 'Like what you see? Visit the ' +\n",
              "          '<a target=\"_blank\" href=https://colab.research.google.com/notebooks/data_table.ipynb>data table notebook</a>'\n",
              "          + ' to learn more about interactive tables.';\n",
              "        element.innerHTML = '';\n",
              "        dataTable['output_type'] = 'display_data';\n",
              "        await google.colab.output.renderOutput(dataTable, element);\n",
              "        const docLink = document.createElement('div');\n",
              "        docLink.innerHTML = docLinkHtml;\n",
              "        element.appendChild(docLink);\n",
              "      }\n",
              "    </script>\n",
              "  </div>\n",
              "\n",
              "\n",
              "<div id=\"df-da5d0fde-00bb-4cc8-9969-bb2aad5baf76\">\n",
              "  <button class=\"colab-df-quickchart\" onclick=\"quickchart('df-da5d0fde-00bb-4cc8-9969-bb2aad5baf76')\"\n",
              "            title=\"Suggest charts\"\n",
              "            style=\"display:none;\">\n",
              "\n",
              "<svg xmlns=\"http://www.w3.org/2000/svg\" height=\"24px\"viewBox=\"0 0 24 24\"\n",
              "     width=\"24px\">\n",
              "    <g>\n",
              "        <path d=\"M19 3H5c-1.1 0-2 .9-2 2v14c0 1.1.9 2 2 2h14c1.1 0 2-.9 2-2V5c0-1.1-.9-2-2-2zM9 17H7v-7h2v7zm4 0h-2V7h2v10zm4 0h-2v-4h2v4z\"/>\n",
              "    </g>\n",
              "</svg>\n",
              "  </button>\n",
              "\n",
              "<style>\n",
              "  .colab-df-quickchart {\n",
              "      --bg-color: #E8F0FE;\n",
              "      --fill-color: #1967D2;\n",
              "      --hover-bg-color: #E2EBFA;\n",
              "      --hover-fill-color: #174EA6;\n",
              "      --disabled-fill-color: #AAA;\n",
              "      --disabled-bg-color: #DDD;\n",
              "  }\n",
              "\n",
              "  [theme=dark] .colab-df-quickchart {\n",
              "      --bg-color: #3B4455;\n",
              "      --fill-color: #D2E3FC;\n",
              "      --hover-bg-color: #434B5C;\n",
              "      --hover-fill-color: #FFFFFF;\n",
              "      --disabled-bg-color: #3B4455;\n",
              "      --disabled-fill-color: #666;\n",
              "  }\n",
              "\n",
              "  .colab-df-quickchart {\n",
              "    background-color: var(--bg-color);\n",
              "    border: none;\n",
              "    border-radius: 50%;\n",
              "    cursor: pointer;\n",
              "    display: none;\n",
              "    fill: var(--fill-color);\n",
              "    height: 32px;\n",
              "    padding: 0;\n",
              "    width: 32px;\n",
              "  }\n",
              "\n",
              "  .colab-df-quickchart:hover {\n",
              "    background-color: var(--hover-bg-color);\n",
              "    box-shadow: 0 1px 2px rgba(60, 64, 67, 0.3), 0 1px 3px 1px rgba(60, 64, 67, 0.15);\n",
              "    fill: var(--button-hover-fill-color);\n",
              "  }\n",
              "\n",
              "  .colab-df-quickchart-complete:disabled,\n",
              "  .colab-df-quickchart-complete:disabled:hover {\n",
              "    background-color: var(--disabled-bg-color);\n",
              "    fill: var(--disabled-fill-color);\n",
              "    box-shadow: none;\n",
              "  }\n",
              "\n",
              "  .colab-df-spinner {\n",
              "    border: 2px solid var(--fill-color);\n",
              "    border-color: transparent;\n",
              "    border-bottom-color: var(--fill-color);\n",
              "    animation:\n",
              "      spin 1s steps(1) infinite;\n",
              "  }\n",
              "\n",
              "  @keyframes spin {\n",
              "    0% {\n",
              "      border-color: transparent;\n",
              "      border-bottom-color: var(--fill-color);\n",
              "      border-left-color: var(--fill-color);\n",
              "    }\n",
              "    20% {\n",
              "      border-color: transparent;\n",
              "      border-left-color: var(--fill-color);\n",
              "      border-top-color: var(--fill-color);\n",
              "    }\n",
              "    30% {\n",
              "      border-color: transparent;\n",
              "      border-left-color: var(--fill-color);\n",
              "      border-top-color: var(--fill-color);\n",
              "      border-right-color: var(--fill-color);\n",
              "    }\n",
              "    40% {\n",
              "      border-color: transparent;\n",
              "      border-right-color: var(--fill-color);\n",
              "      border-top-color: var(--fill-color);\n",
              "    }\n",
              "    60% {\n",
              "      border-color: transparent;\n",
              "      border-right-color: var(--fill-color);\n",
              "    }\n",
              "    80% {\n",
              "      border-color: transparent;\n",
              "      border-right-color: var(--fill-color);\n",
              "      border-bottom-color: var(--fill-color);\n",
              "    }\n",
              "    90% {\n",
              "      border-color: transparent;\n",
              "      border-bottom-color: var(--fill-color);\n",
              "    }\n",
              "  }\n",
              "</style>\n",
              "\n",
              "  <script>\n",
              "    async function quickchart(key) {\n",
              "      const quickchartButtonEl =\n",
              "        document.querySelector('#' + key + ' button');\n",
              "      quickchartButtonEl.disabled = true;  // To prevent multiple clicks.\n",
              "      quickchartButtonEl.classList.add('colab-df-spinner');\n",
              "      try {\n",
              "        const charts = await google.colab.kernel.invokeFunction(\n",
              "            'suggestCharts', [key], {});\n",
              "      } catch (error) {\n",
              "        console.error('Error during call to suggestCharts:', error);\n",
              "      }\n",
              "      quickchartButtonEl.classList.remove('colab-df-spinner');\n",
              "      quickchartButtonEl.classList.add('colab-df-quickchart-complete');\n",
              "    }\n",
              "    (() => {\n",
              "      let quickchartButtonEl =\n",
              "        document.querySelector('#df-da5d0fde-00bb-4cc8-9969-bb2aad5baf76 button');\n",
              "      quickchartButtonEl.style.display =\n",
              "        google.colab.kernel.accessAllowed ? 'block' : 'none';\n",
              "    })();\n",
              "  </script>\n",
              "</div>\n",
              "\n",
              "    </div>\n",
              "  </div>\n"
            ],
            "application/vnd.google.colaboratory.intrinsic+json": {
              "type": "dataframe",
              "variable_name": "df"
            }
          },
          "metadata": {},
          "execution_count": 2
        }
      ]
    },
    {
      "cell_type": "code",
      "source": [
        "bc.target_names # Ver la clase de datos para la columna de target"
      ],
      "metadata": {
        "colab": {
          "base_uri": "https://localhost:8080/"
        },
        "id": "Nod6brwxg3hw",
        "outputId": "8b2b1bf5-bffb-43e4-ad5d-6ebb0e090aa5"
      },
      "execution_count": 3,
      "outputs": [
        {
          "output_type": "execute_result",
          "data": {
            "text/plain": [
              "array(['malignant', 'benign'], dtype='<U9')"
            ]
          },
          "metadata": {},
          "execution_count": 3
        }
      ]
    },
    {
      "cell_type": "code",
      "source": [
        "# Ponemos 0 para benigno y 1 para maligno\n",
        "df['target'].replace('Benign', 0, inplace=True)\n",
        "df['target'].replace('Malignant', 1, inplace=True)"
      ],
      "metadata": {
        "id": "WnaFfYmvpqXi"
      },
      "execution_count": 4,
      "outputs": []
    },
    {
      "cell_type": "code",
      "source": [
        "df.isna().sum() # Verificar si hay datos nulos en alguna de las features"
      ],
      "metadata": {
        "colab": {
          "base_uri": "https://localhost:8080/",
          "height": 1000
        },
        "id": "Yf2B0QrjkFZf",
        "outputId": "0259c0d0-a7e5-4744-95eb-d33d37d810e6"
      },
      "execution_count": 5,
      "outputs": [
        {
          "output_type": "execute_result",
          "data": {
            "text/plain": [
              "mean radius                0\n",
              "mean texture               0\n",
              "mean perimeter             0\n",
              "mean area                  0\n",
              "mean smoothness            0\n",
              "mean compactness           0\n",
              "mean concavity             0\n",
              "mean concave points        0\n",
              "mean symmetry              0\n",
              "mean fractal dimension     0\n",
              "radius error               0\n",
              "texture error              0\n",
              "perimeter error            0\n",
              "area error                 0\n",
              "smoothness error           0\n",
              "compactness error          0\n",
              "concavity error            0\n",
              "concave points error       0\n",
              "symmetry error             0\n",
              "fractal dimension error    0\n",
              "worst radius               0\n",
              "worst texture              0\n",
              "worst perimeter            0\n",
              "worst area                 0\n",
              "worst smoothness           0\n",
              "worst compactness          0\n",
              "worst concavity            0\n",
              "worst concave points       0\n",
              "worst symmetry             0\n",
              "worst fractal dimension    0\n",
              "target                     0\n",
              "dtype: int64"
            ],
            "text/html": [
              "<div>\n",
              "<style scoped>\n",
              "    .dataframe tbody tr th:only-of-type {\n",
              "        vertical-align: middle;\n",
              "    }\n",
              "\n",
              "    .dataframe tbody tr th {\n",
              "        vertical-align: top;\n",
              "    }\n",
              "\n",
              "    .dataframe thead th {\n",
              "        text-align: right;\n",
              "    }\n",
              "</style>\n",
              "<table border=\"1\" class=\"dataframe\">\n",
              "  <thead>\n",
              "    <tr style=\"text-align: right;\">\n",
              "      <th></th>\n",
              "      <th>0</th>\n",
              "    </tr>\n",
              "  </thead>\n",
              "  <tbody>\n",
              "    <tr>\n",
              "      <th>mean radius</th>\n",
              "      <td>0</td>\n",
              "    </tr>\n",
              "    <tr>\n",
              "      <th>mean texture</th>\n",
              "      <td>0</td>\n",
              "    </tr>\n",
              "    <tr>\n",
              "      <th>mean perimeter</th>\n",
              "      <td>0</td>\n",
              "    </tr>\n",
              "    <tr>\n",
              "      <th>mean area</th>\n",
              "      <td>0</td>\n",
              "    </tr>\n",
              "    <tr>\n",
              "      <th>mean smoothness</th>\n",
              "      <td>0</td>\n",
              "    </tr>\n",
              "    <tr>\n",
              "      <th>mean compactness</th>\n",
              "      <td>0</td>\n",
              "    </tr>\n",
              "    <tr>\n",
              "      <th>mean concavity</th>\n",
              "      <td>0</td>\n",
              "    </tr>\n",
              "    <tr>\n",
              "      <th>mean concave points</th>\n",
              "      <td>0</td>\n",
              "    </tr>\n",
              "    <tr>\n",
              "      <th>mean symmetry</th>\n",
              "      <td>0</td>\n",
              "    </tr>\n",
              "    <tr>\n",
              "      <th>mean fractal dimension</th>\n",
              "      <td>0</td>\n",
              "    </tr>\n",
              "    <tr>\n",
              "      <th>radius error</th>\n",
              "      <td>0</td>\n",
              "    </tr>\n",
              "    <tr>\n",
              "      <th>texture error</th>\n",
              "      <td>0</td>\n",
              "    </tr>\n",
              "    <tr>\n",
              "      <th>perimeter error</th>\n",
              "      <td>0</td>\n",
              "    </tr>\n",
              "    <tr>\n",
              "      <th>area error</th>\n",
              "      <td>0</td>\n",
              "    </tr>\n",
              "    <tr>\n",
              "      <th>smoothness error</th>\n",
              "      <td>0</td>\n",
              "    </tr>\n",
              "    <tr>\n",
              "      <th>compactness error</th>\n",
              "      <td>0</td>\n",
              "    </tr>\n",
              "    <tr>\n",
              "      <th>concavity error</th>\n",
              "      <td>0</td>\n",
              "    </tr>\n",
              "    <tr>\n",
              "      <th>concave points error</th>\n",
              "      <td>0</td>\n",
              "    </tr>\n",
              "    <tr>\n",
              "      <th>symmetry error</th>\n",
              "      <td>0</td>\n",
              "    </tr>\n",
              "    <tr>\n",
              "      <th>fractal dimension error</th>\n",
              "      <td>0</td>\n",
              "    </tr>\n",
              "    <tr>\n",
              "      <th>worst radius</th>\n",
              "      <td>0</td>\n",
              "    </tr>\n",
              "    <tr>\n",
              "      <th>worst texture</th>\n",
              "      <td>0</td>\n",
              "    </tr>\n",
              "    <tr>\n",
              "      <th>worst perimeter</th>\n",
              "      <td>0</td>\n",
              "    </tr>\n",
              "    <tr>\n",
              "      <th>worst area</th>\n",
              "      <td>0</td>\n",
              "    </tr>\n",
              "    <tr>\n",
              "      <th>worst smoothness</th>\n",
              "      <td>0</td>\n",
              "    </tr>\n",
              "    <tr>\n",
              "      <th>worst compactness</th>\n",
              "      <td>0</td>\n",
              "    </tr>\n",
              "    <tr>\n",
              "      <th>worst concavity</th>\n",
              "      <td>0</td>\n",
              "    </tr>\n",
              "    <tr>\n",
              "      <th>worst concave points</th>\n",
              "      <td>0</td>\n",
              "    </tr>\n",
              "    <tr>\n",
              "      <th>worst symmetry</th>\n",
              "      <td>0</td>\n",
              "    </tr>\n",
              "    <tr>\n",
              "      <th>worst fractal dimension</th>\n",
              "      <td>0</td>\n",
              "    </tr>\n",
              "    <tr>\n",
              "      <th>target</th>\n",
              "      <td>0</td>\n",
              "    </tr>\n",
              "  </tbody>\n",
              "</table>\n",
              "</div><br><label><b>dtype:</b> int64</label>"
            ]
          },
          "metadata": {},
          "execution_count": 5
        }
      ]
    },
    {
      "cell_type": "markdown",
      "source": [
        "### Ahora que ya confirmé que no hay valores nulos en los datos, y que ya tengo la variable target en términos de 0 (para benigno) y 1 (para maligno), entonces puedo proceder a entrenar modelos. En este caso decidí que entrenaré 6 modelos: regresión logística, árboles de decisión, random forest, KNN, SVC, y Gaussian Naive Bayes. Luego de esto, evaluaré cuál de todos tiene el mejor desempeño y ese será el que voy a elegir para usar GridSearch para implementarle los mejores hiperparámetros y evaluar su rendimiento para finalmente hacer algunas predicciones con ese modelo."
      ],
      "metadata": {
        "id": "tBWSQf9C1Nik"
      }
    },
    {
      "cell_type": "markdown",
      "source": [
        "# Modelo de regresión logística"
      ],
      "metadata": {
        "id": "CBZwZTmt39tD"
      }
    },
    {
      "cell_type": "code",
      "source": [
        "from sklearn.model_selection import train_test_split # Esto para dividir los datos en train y test\n",
        "X = df.drop('target', axis=1) # Definir X\n",
        "y = df['target'] # Definir y\n",
        "X_train, X_test, y_train, y_test = train_test_split(X, y, test_size=0.2, random_state=0) # Dividir los datos (80% train y 20% test)\n",
        "from sklearn.linear_model import LogisticRegression\n",
        "from sklearn.metrics import accuracy_score\n",
        "from sklearn.metrics import confusion_matrix\n",
        "from sklearn.metrics import classification_report\n",
        "rlog = LogisticRegression()\n",
        "rlog.fit(X_train, y_train)\n",
        "y_pred = rlog.predict(X_test)"
      ],
      "metadata": {
        "id": "7ywWi7W636VV"
      },
      "execution_count": 8,
      "outputs": []
    },
    {
      "cell_type": "markdown",
      "source": [
        "## Evaluación del modelo de regresión logística"
      ],
      "metadata": {
        "id": "yJExCAxZ5eHT"
      }
    },
    {
      "cell_type": "code",
      "source": [
        "# Métricas\n",
        "from sklearn.metrics import precision_score, recall_score, f1_score, r2_score, mean_squared_error as mse\n",
        "acc_log = accuracy_score(y_test, y_pred)\n",
        "print('Exactitud:', accuracy_score(y_test, y_pred))\n",
        "pre_log = precision_score(y_test, y_pred)\n",
        "print('Precisión:', precision_score(y_test, y_pred))\n",
        "rec_log = recall_score(y_test, y_pred)\n",
        "print('Recall:', recall_score(y_test, y_pred))\n",
        "f1_log = f1_score(y_test, y_pred)\n",
        "print('Score de F1:', f1_score(y_test, y_pred))\n",
        "r2_log = r2_score(y_test, y_pred)\n",
        "print('Score de r2:', r2_score(y_test, y_pred))\n",
        "mse_log = mse(y_test, y_pred)\n",
        "print('Error cuadrado medio (MSE):', mse(y_test, y_pred))"
      ],
      "metadata": {
        "colab": {
          "base_uri": "https://localhost:8080/"
        },
        "id": "foCCdSIb5YuZ",
        "outputId": "72b125f3-c043-477d-ed6c-d98c36208827"
      },
      "execution_count": 13,
      "outputs": [
        {
          "output_type": "stream",
          "name": "stdout",
          "text": [
            "Exactitud: 0.9473684210526315\n",
            "Precisión: 0.9692307692307692\n",
            "Recall: 0.9402985074626866\n",
            "Score de F1: 0.9545454545454546\n",
            "Score de r2: 0.7827881867259447\n",
            "Error cuadrado medio (MSE): 0.05263157894736842\n"
          ]
        }
      ]
    },
    {
      "cell_type": "code",
      "source": [
        "# Matriz de confusión                       # Matriz:\n",
        "mat = confusion_matrix(y_test, y_pred)      # [V positivos, F positivos]\n",
        "print(mat)                                  # [F negativos, V negativos]"
      ],
      "metadata": {
        "colab": {
          "base_uri": "https://localhost:8080/"
        },
        "id": "0rexzfPm50OZ",
        "outputId": "7881f224-cf4b-40d0-e406-942c25b06c07"
      },
      "execution_count": 14,
      "outputs": [
        {
          "output_type": "stream",
          "name": "stdout",
          "text": [
            "[[45  2]\n",
            " [ 4 63]]\n"
          ]
        }
      ]
    },
    {
      "cell_type": "code",
      "source": [
        "# Reporte de métricas\n",
        "print(classification_report(y_test, y_pred))"
      ],
      "metadata": {
        "colab": {
          "base_uri": "https://localhost:8080/"
        },
        "id": "KuxTk5IA7Ar3",
        "outputId": "aaa54f88-f8f6-4400-e0af-a5377e96355f"
      },
      "execution_count": 15,
      "outputs": [
        {
          "output_type": "stream",
          "name": "stdout",
          "text": [
            "              precision    recall  f1-score   support\n",
            "\n",
            "           0       0.92      0.96      0.94        47\n",
            "           1       0.97      0.94      0.95        67\n",
            "\n",
            "    accuracy                           0.95       114\n",
            "   macro avg       0.94      0.95      0.95       114\n",
            "weighted avg       0.95      0.95      0.95       114\n",
            "\n"
          ]
        }
      ]
    },
    {
      "cell_type": "markdown",
      "source": [
        "# Modelo de árboles de decisión"
      ],
      "metadata": {
        "id": "UO6zPedn7VCL"
      }
    },
    {
      "cell_type": "code",
      "source": [
        "from sklearn.tree import DecisionTreeClassifier\n",
        "arb = DecisionTreeClassifier()\n",
        "arb.fit(X_train, y_train)\n",
        "y_pred = arb.predict(X_test)"
      ],
      "metadata": {
        "id": "7fLNFUN27Ulw"
      },
      "execution_count": 16,
      "outputs": []
    },
    {
      "cell_type": "markdown",
      "source": [
        "## Evaluación del modelo de árboles de decisión"
      ],
      "metadata": {
        "id": "n90Waman7n5I"
      }
    },
    {
      "cell_type": "code",
      "source": [
        "# Métricas\n",
        "acc_arb = accuracy_score(y_test, y_pred)\n",
        "print('Exactitud:', acc_arb)\n",
        "pre_arb = precision_score(y_test, y_pred)\n",
        "print('Precisión:', pre_arb)\n",
        "rec_arb = recall_score(y_test, y_pred)\n",
        "print('Recall:', rec_arb)\n",
        "f1_arb = f1_score(y_test, y_pred)\n",
        "print('Score de F1:', f1_arb)\n",
        "r2_arb = r2_score(y_test, y_pred)\n",
        "print('Score de r2:', r2_arb)\n",
        "mse_arb = mse(y_test, y_pred)\n",
        "print('Error cuadrado medio (MSE):', mse_arb)"
      ],
      "metadata": {
        "colab": {
          "base_uri": "https://localhost:8080/"
        },
        "id": "hAdOTBz-7nTW",
        "outputId": "487f88b3-56fd-4687-df94-3b161b50d464"
      },
      "execution_count": 17,
      "outputs": [
        {
          "output_type": "stream",
          "name": "stdout",
          "text": [
            "Exactitud: 0.9122807017543859\n",
            "Precisión: 0.9523809523809523\n",
            "Recall: 0.8955223880597015\n",
            "Score de F1: 0.9230769230769231\n",
            "Score de r2: 0.6379803112099078\n",
            "Error cuadrado medio (MSE): 0.08771929824561403\n"
          ]
        }
      ]
    },
    {
      "cell_type": "code",
      "source": [
        "# Matriz de confusión\n",
        "mat_arb = confusion_matrix(y_test, y_pred)\n",
        "print(mat_arb)"
      ],
      "metadata": {
        "colab": {
          "base_uri": "https://localhost:8080/"
        },
        "id": "_YgoToab-l6w",
        "outputId": "282221a8-bd83-4a31-f959-478dfe2f9588"
      },
      "execution_count": 18,
      "outputs": [
        {
          "output_type": "stream",
          "name": "stdout",
          "text": [
            "[[44  3]\n",
            " [ 7 60]]\n"
          ]
        }
      ]
    },
    {
      "cell_type": "code",
      "source": [
        "# Reporte de métricas\n",
        "print(classification_report(y_test, y_pred))"
      ],
      "metadata": {
        "colab": {
          "base_uri": "https://localhost:8080/"
        },
        "id": "juyZk9Iz9c1y",
        "outputId": "eeda610c-ebef-412b-acf2-be9413bd416c"
      },
      "execution_count": 19,
      "outputs": [
        {
          "output_type": "stream",
          "name": "stdout",
          "text": [
            "              precision    recall  f1-score   support\n",
            "\n",
            "           0       0.86      0.94      0.90        47\n",
            "           1       0.95      0.90      0.92        67\n",
            "\n",
            "    accuracy                           0.91       114\n",
            "   macro avg       0.91      0.92      0.91       114\n",
            "weighted avg       0.92      0.91      0.91       114\n",
            "\n"
          ]
        }
      ]
    },
    {
      "cell_type": "markdown",
      "source": [
        "# Modelo de Random Forest"
      ],
      "metadata": {
        "id": "Sl5V6cgA-9cH"
      }
    },
    {
      "cell_type": "code",
      "source": [
        "from sklearn.ensemble import RandomForestClassifier\n",
        "rf = RandomForestClassifier()\n",
        "rf.fit(X_train, y_train)\n",
        "y_pred = rf.predict(X_test)"
      ],
      "metadata": {
        "id": "3u8lxJ2w_RtG"
      },
      "execution_count": 20,
      "outputs": []
    },
    {
      "cell_type": "markdown",
      "source": [
        "## Evaluación del modelo de Random Forest"
      ],
      "metadata": {
        "id": "r5iUjLbi_fjb"
      }
    },
    {
      "cell_type": "code",
      "source": [
        "# Métricas\n",
        "acc_rf = accuracy_score(y_test, y_pred)\n",
        "print('Exactitud:', acc_rf)\n",
        "pre_rf = precision_score(y_test, y_pred)\n",
        "print('Precisión:', pre_rf)\n",
        "rec_rf = recall_score(y_test, y_pred)\n",
        "print('Recall:', rec_rf)\n",
        "f1_rf = f1_score(y_test, y_pred)\n",
        "print('Score de F1:', f1_rf)\n",
        "r2_rf = r2_score(y_test, y_pred)\n",
        "print('Score de r2:', r2_rf)\n",
        "mse_rf = mse(y_test, y_pred)\n",
        "print('Error cuadrado medio (MSE):', mse_rf)"
      ],
      "metadata": {
        "colab": {
          "base_uri": "https://localhost:8080/"
        },
        "id": "p2KXqMvL_Tgb",
        "outputId": "b5a58e38-d469-400c-8f4d-5901535ef9d1"
      },
      "execution_count": 21,
      "outputs": [
        {
          "output_type": "stream",
          "name": "stdout",
          "text": [
            "Exactitud: 0.956140350877193\n",
            "Precisión: 0.9696969696969697\n",
            "Recall: 0.9552238805970149\n",
            "Score de F1: 0.9624060150375939\n",
            "Score de r2: 0.8189901556049539\n",
            "Error cuadrado medio (MSE): 0.043859649122807015\n"
          ]
        }
      ]
    },
    {
      "cell_type": "code",
      "source": [
        "# Matriz de confusión\n",
        "mat_rf = confusion_matrix(y_test, y_pred)\n",
        "print(mat_rf)"
      ],
      "metadata": {
        "colab": {
          "base_uri": "https://localhost:8080/"
        },
        "id": "PeIBibPw_pAz",
        "outputId": "f023e79c-36f7-453d-b27b-2ff49ee9389e"
      },
      "execution_count": 22,
      "outputs": [
        {
          "output_type": "stream",
          "name": "stdout",
          "text": [
            "[[45  2]\n",
            " [ 3 64]]\n"
          ]
        }
      ]
    },
    {
      "cell_type": "code",
      "source": [
        "# Reporte de métricas\n",
        "print(classification_report(y_test, y_pred))"
      ],
      "metadata": {
        "colab": {
          "base_uri": "https://localhost:8080/"
        },
        "id": "Xkft4grP_8IE",
        "outputId": "6847655a-1d5d-4412-f0e1-47a0150c9a4c"
      },
      "execution_count": 23,
      "outputs": [
        {
          "output_type": "stream",
          "name": "stdout",
          "text": [
            "              precision    recall  f1-score   support\n",
            "\n",
            "           0       0.94      0.96      0.95        47\n",
            "           1       0.97      0.96      0.96        67\n",
            "\n",
            "    accuracy                           0.96       114\n",
            "   macro avg       0.95      0.96      0.95       114\n",
            "weighted avg       0.96      0.96      0.96       114\n",
            "\n"
          ]
        }
      ]
    },
    {
      "cell_type": "markdown",
      "source": [
        "# Modelo de KNN"
      ],
      "metadata": {
        "id": "zNckzVNnAAif"
      }
    },
    {
      "cell_type": "code",
      "source": [
        "from sklearn.neighbors import KNeighborsClassifier\n",
        "knn = KNeighborsClassifier()\n",
        "knn.fit(X_train, y_train)\n",
        "y_pred = knn.predict(X_test)"
      ],
      "metadata": {
        "id": "pM4nMdOUAJCb"
      },
      "execution_count": 24,
      "outputs": []
    },
    {
      "cell_type": "markdown",
      "source": [
        "## Evaluación del modelo de KNN"
      ],
      "metadata": {
        "id": "ECYRNruSARjy"
      }
    },
    {
      "cell_type": "code",
      "source": [
        "# Métricas\n",
        "knn_acc = accuracy_score(y_test, y_pred)\n",
        "print('Exactitud:', knn_acc)\n",
        "knn_pre = precision_score(y_test, y_pred)\n",
        "print('Precisión:', knn_pre)\n",
        "knn_rec = recall_score(y_test, y_pred)\n",
        "print('Recall:', knn_rec)\n",
        "knn_f1 = f1_score(y_test, y_pred)\n",
        "print('Score de F1:', knn_f1)\n",
        "knn_r2 = r2_score(y_test, y_pred)\n",
        "print('Score de r2:', knn_r2)\n",
        "knn_mse = mse(y_test, y_pred)\n",
        "print('Error cuadrado medio (MSE):', knn_mse)"
      ],
      "metadata": {
        "colab": {
          "base_uri": "https://localhost:8080/"
        },
        "id": "1MR-R2BPALvs",
        "outputId": "817ce3ef-8fd0-48f0-f46c-78423b9106ec"
      },
      "execution_count": 25,
      "outputs": [
        {
          "output_type": "stream",
          "name": "stdout",
          "text": [
            "Exactitud: 0.9385964912280702\n",
            "Precisión: 0.9545454545454546\n",
            "Recall: 0.9402985074626866\n",
            "Score de F1: 0.9473684210526315\n",
            "Score de r2: 0.7465862178469356\n",
            "Error cuadrado medio (MSE): 0.06140350877192982\n"
          ]
        }
      ]
    },
    {
      "cell_type": "code",
      "source": [
        "# Matriz de confusión\n",
        "mat_knn = confusion_matrix(y_test, y_pred)\n",
        "print(mat_knn)"
      ],
      "metadata": {
        "colab": {
          "base_uri": "https://localhost:8080/"
        },
        "id": "Im7ShwwcAk1T",
        "outputId": "ac48e638-0468-44f7-e399-7b3add122e47"
      },
      "execution_count": 26,
      "outputs": [
        {
          "output_type": "stream",
          "name": "stdout",
          "text": [
            "[[44  3]\n",
            " [ 4 63]]\n"
          ]
        }
      ]
    },
    {
      "cell_type": "code",
      "source": [
        "# Reporte de métricas\n",
        "print(classification_report(y_test, y_pred))"
      ],
      "metadata": {
        "colab": {
          "base_uri": "https://localhost:8080/"
        },
        "id": "3CC2f1-oArWW",
        "outputId": "67d9b933-e2c9-48b8-dc66-2d73e6a682bb"
      },
      "execution_count": 27,
      "outputs": [
        {
          "output_type": "stream",
          "name": "stdout",
          "text": [
            "              precision    recall  f1-score   support\n",
            "\n",
            "           0       0.92      0.94      0.93        47\n",
            "           1       0.95      0.94      0.95        67\n",
            "\n",
            "    accuracy                           0.94       114\n",
            "   macro avg       0.94      0.94      0.94       114\n",
            "weighted avg       0.94      0.94      0.94       114\n",
            "\n"
          ]
        }
      ]
    },
    {
      "cell_type": "markdown",
      "source": [
        "# Modelo de SVC"
      ],
      "metadata": {
        "id": "4x5r5gVgAw8Z"
      }
    },
    {
      "cell_type": "code",
      "source": [
        "from sklearn.svm import SVC\n",
        "svc = SVC()\n",
        "svc.fit(X_train, y_train)\n",
        "y_pred = svc.predict(X_test)"
      ],
      "metadata": {
        "id": "zw7ZVKyEAvHL"
      },
      "execution_count": 28,
      "outputs": []
    },
    {
      "cell_type": "markdown",
      "source": [
        "## Evaluación del modelo de SVM"
      ],
      "metadata": {
        "id": "We1ae72rA486"
      }
    },
    {
      "cell_type": "code",
      "source": [
        "# Métricas\n",
        "acc_svc = accuracy_score(y_test, y_pred)\n",
        "print('Exactitud:', acc_svc)\n",
        "pre_svc = precision_score(y_test, y_pred)\n",
        "print('Precisión:', pre_svc)\n",
        "rec_svc = recall_score(y_test, y_pred)\n",
        "print('Recall:', rec_svc)\n",
        "f1_svc = f1_score(y_test, y_pred)\n",
        "print('Score de F1:', f1_svc)\n",
        "r2_svc = r2_score(y_test, y_pred)\n",
        "print('Score de r2:', r2_svc)\n",
        "mse_svc = mse(y_test, y_pred)\n",
        "print('Error cuadrado medio (MSE):', mse_svc)"
      ],
      "metadata": {
        "colab": {
          "base_uri": "https://localhost:8080/"
        },
        "id": "41G3QEhPA7uw",
        "outputId": "c174bcbf-a87d-4625-fcc0-d2df8b1f27c7"
      },
      "execution_count": 29,
      "outputs": [
        {
          "output_type": "stream",
          "name": "stdout",
          "text": [
            "Exactitud: 0.9298245614035088\n",
            "Precisión: 0.9041095890410958\n",
            "Recall: 0.9850746268656716\n",
            "Score de F1: 0.9428571428571428\n",
            "Score de r2: 0.7103842489679263\n",
            "Error cuadrado medio (MSE): 0.07017543859649122\n"
          ]
        }
      ]
    },
    {
      "cell_type": "code",
      "source": [
        "# Matriz de confusión\n",
        "mat_svc = confusion_matrix(y_test, y_pred)\n",
        "print(mat_svc)"
      ],
      "metadata": {
        "colab": {
          "base_uri": "https://localhost:8080/"
        },
        "id": "DZYHzqfiBUpZ",
        "outputId": "3dab8c78-c8b1-4183-8a2f-e053076fcea6"
      },
      "execution_count": 30,
      "outputs": [
        {
          "output_type": "stream",
          "name": "stdout",
          "text": [
            "[[40  7]\n",
            " [ 1 66]]\n"
          ]
        }
      ]
    },
    {
      "cell_type": "code",
      "source": [
        "# Reporte de métricas\n",
        "print(classification_report(y_test, y_pred))"
      ],
      "metadata": {
        "colab": {
          "base_uri": "https://localhost:8080/"
        },
        "id": "79zJjGxEBMf3",
        "outputId": "dca60bee-5c95-44e0-90e0-e53ae90dcc7b"
      },
      "execution_count": 31,
      "outputs": [
        {
          "output_type": "stream",
          "name": "stdout",
          "text": [
            "              precision    recall  f1-score   support\n",
            "\n",
            "           0       0.98      0.85      0.91        47\n",
            "           1       0.90      0.99      0.94        67\n",
            "\n",
            "    accuracy                           0.93       114\n",
            "   macro avg       0.94      0.92      0.93       114\n",
            "weighted avg       0.93      0.93      0.93       114\n",
            "\n"
          ]
        }
      ]
    },
    {
      "cell_type": "markdown",
      "source": [
        "# Modelo de Gaussian Naive Bayes"
      ],
      "metadata": {
        "id": "wXvlaE1Ac11H"
      }
    },
    {
      "cell_type": "code",
      "source": [
        "from sklearn.naive_bayes import GaussianNB\n",
        "naive_bay = GaussianNB()\n",
        "naive_bay.fit(X_train, y_train)\n",
        "y_pred = naive_bay.predict(X_test)"
      ],
      "metadata": {
        "id": "VMcZ6n-hbgww"
      },
      "execution_count": 32,
      "outputs": []
    },
    {
      "cell_type": "markdown",
      "source": [
        "## Evaluación del modelo de Gaussian NB"
      ],
      "metadata": {
        "id": "apr31Ay0c9qt"
      }
    },
    {
      "cell_type": "code",
      "source": [
        "# Métricas\n",
        "acc_bayes = accuracy_score(y_test, y_pred)\n",
        "print('Exactitud:', acc_bayes)\n",
        "pre_bayes = precision_score(y_test, y_pred)\n",
        "print('Precisión:', pre_bayes)\n",
        "rec_bayes = recall_score(y_test, y_pred)\n",
        "print('Recall:', rec_bayes)\n",
        "f1_bayes = f1_score(y_test, y_pred)\n",
        "print('Score de F1:', f1_bayes)\n",
        "r2_bayes = r2_score(y_test, y_pred)\n",
        "print('Score de r2:', r2_bayes)\n",
        "mse_bayes = mse(y_test, y_pred)\n",
        "print('Error cuadrado medio (MSE):', mse_bayes)"
      ],
      "metadata": {
        "colab": {
          "base_uri": "https://localhost:8080/"
        },
        "id": "Z0Sf9s5cbxjC",
        "outputId": "2f248314-d1d4-4a94-c60f-631a9ccfe996"
      },
      "execution_count": 33,
      "outputs": [
        {
          "output_type": "stream",
          "name": "stdout",
          "text": [
            "Exactitud: 0.9298245614035088\n",
            "Precisión: 0.9402985074626866\n",
            "Recall: 0.9402985074626866\n",
            "Score de F1: 0.9402985074626866\n",
            "Score de r2: 0.7103842489679263\n",
            "Error cuadrado medio (MSE): 0.07017543859649122\n"
          ]
        }
      ]
    },
    {
      "cell_type": "code",
      "source": [
        "# Matriz de confusión\n",
        "mat_bayes = confusion_matrix(y_test, y_pred)\n",
        "print(mat_bayes)"
      ],
      "metadata": {
        "colab": {
          "base_uri": "https://localhost:8080/"
        },
        "id": "cmrvsiiUdIuc",
        "outputId": "a855d492-300d-4bf0-cb24-79139249ff04"
      },
      "execution_count": 34,
      "outputs": [
        {
          "output_type": "stream",
          "name": "stdout",
          "text": [
            "[[43  4]\n",
            " [ 4 63]]\n"
          ]
        }
      ]
    },
    {
      "cell_type": "code",
      "source": [
        "# Reporte de métricas\n",
        "print(classification_report(y_test, y_pred))"
      ],
      "metadata": {
        "colab": {
          "base_uri": "https://localhost:8080/"
        },
        "id": "tyvKysTQdM7g",
        "outputId": "6429e198-9aa9-4c5c-a9b5-15debb9f70d6"
      },
      "execution_count": 35,
      "outputs": [
        {
          "output_type": "stream",
          "name": "stdout",
          "text": [
            "              precision    recall  f1-score   support\n",
            "\n",
            "           0       0.91      0.91      0.91        47\n",
            "           1       0.94      0.94      0.94        67\n",
            "\n",
            "    accuracy                           0.93       114\n",
            "   macro avg       0.93      0.93      0.93       114\n",
            "weighted avg       0.93      0.93      0.93       114\n",
            "\n"
          ]
        }
      ]
    },
    {
      "cell_type": "code",
      "source": [
        "from sklearn.linear_model import LinearRegression\n",
        "lin = LinearRegression()\n",
        "lin.fit(X_train, y_train)\n",
        "y_pred = lin.predict(X_test)"
      ],
      "metadata": {
        "id": "Xh6y17iDkgQV"
      },
      "execution_count": 38,
      "outputs": []
    },
    {
      "cell_type": "markdown",
      "source": [
        "### Ahora que ya entrené los 6 modelos, decidiré cuál tuvo mejor rendimiento para elegir el modelo final, en el cual usaré Grid Search para encontrar los mejores hiperparámetros de dicho modelo e implementarlo de esta forma para finalmente evaluar su rendimiento y hacer predicciones con este."
      ],
      "metadata": {
        "id": "W9xl6TYpEC7A"
      }
    },
    {
      "cell_type": "code",
      "source": [
        "# Tabla de resumen de las métricas de todos los modelos (aquí es donde tomaré la decisión sobre con cuál modelo proceder)\n",
        "from prettytable import PrettyTable\n",
        "# Crear tabla\n",
        "resumen = PrettyTable()\n",
        "\n",
        "# Columnas\n",
        "resumen.field_names = [\"Modelo\", \"Exactitud\", \"Precisión\", \"Recall\", \"Score F1\", \"Score r2\", \"MSE\"]\n",
        "\n",
        "# Agregar filas\n",
        "resumen.add_row([\"Regresión logística\", acc_log, pre_log, rec_log, f1_log, r2_log, mse_log])\n",
        "resumen.add_row([\"Árboles de decisión\", acc_arb, pre_arb, rec_arb, f1_arb, r2_arb, mse_arb])\n",
        "resumen.add_row([\"Random Forest\", acc_rf, pre_rf, rec_rf, f1_rf, r2_rf, mse_rf])\n",
        "resumen.add_row([\"KNN\", knn_acc, knn_pre, knn_rec, knn_f1, knn_r2, knn_mse])\n",
        "resumen.add_row([\"SVC\", acc_svc, pre_svc, rec_svc, f1_svc, r2_svc, mse_svc])\n",
        "resumen.add_row([\"Gaussian Naive Bayes\", acc_bayes, pre_bayes, rec_bayes, f1_bayes, r2_bayes, mse_bayes])\n",
        "print(resumen)"
      ],
      "metadata": {
        "colab": {
          "base_uri": "https://localhost:8080/"
        },
        "id": "9PL9bZsMS8L9",
        "outputId": "c123081e-61cb-4296-858f-ba0b73e3ee0e"
      },
      "execution_count": 37,
      "outputs": [
        {
          "output_type": "stream",
          "name": "stdout",
          "text": [
            "+----------------------+--------------------+--------------------+--------------------+--------------------+--------------------+----------------------+\n",
            "|        Modelo        |     Exactitud      |     Precisión      |       Recall       |      Score F1      |      Score r2      |         MSE          |\n",
            "+----------------------+--------------------+--------------------+--------------------+--------------------+--------------------+----------------------+\n",
            "| Regresión logística  | 0.9473684210526315 | 0.9692307692307692 | 0.9402985074626866 | 0.9545454545454546 | 0.7827881867259447 | 0.05263157894736842  |\n",
            "| Árboles de decisión  | 0.9122807017543859 | 0.9523809523809523 | 0.8955223880597015 | 0.9230769230769231 | 0.6379803112099078 | 0.08771929824561403  |\n",
            "|    Random Forest     | 0.956140350877193  | 0.9696969696969697 | 0.9552238805970149 | 0.9624060150375939 | 0.8189901556049539 | 0.043859649122807015 |\n",
            "|         KNN          | 0.9385964912280702 | 0.9545454545454546 | 0.9402985074626866 | 0.9473684210526315 | 0.7465862178469356 | 0.06140350877192982  |\n",
            "|         SVC          | 0.9298245614035088 | 0.9041095890410958 | 0.9850746268656716 | 0.9428571428571428 | 0.7103842489679263 | 0.07017543859649122  |\n",
            "| Gaussian Naive Bayes | 0.9298245614035088 | 0.9402985074626866 | 0.9402985074626866 | 0.9402985074626866 | 0.7103842489679263 | 0.07017543859649122  |\n",
            "+----------------------+--------------------+--------------------+--------------------+--------------------+--------------------+----------------------+\n"
          ]
        }
      ]
    },
    {
      "cell_type": "code",
      "source": [
        "# Escogeré el modelo que tenga menos inexactitud (1 - todas las métricas) y el menor MSE.\n",
        "## El modelo que tenga la menor cifra de inexactitud es el que ganará y le aplicaré grid search.\n",
        "log_inexact = ( (1-acc_log) + (1-pre_log) + (1-rec_log) + (1-f1_log) + (1-r2_log) + mse_log)\n",
        "arb_inexact = ( (1-acc_arb) + (1-pre_arb) + (1-rec_arb) + (1-f1_arb) + (1-r2_arb) + mse_arb)\n",
        "rf_inexac = ( (1-acc_rf) + (1-pre_rf) + (1-rec_rf) + (1-f1_rf) + (1-r2_rf) + mse_rf)\n",
        "knn_inexac = ( (1-knn_acc) + (1-knn_pre) + (1-knn_rec) + (1-knn_f1) + (1-knn_r2) + knn_mse)\n",
        "svc_inexac = ( (1-acc_svc) + (1-pre_svc) + (1-rec_svc) + (1-f1_svc) + (1-r2_svc) + mse_svc)\n",
        "bayes_inexac = ( (1-acc_bayes) + (1-pre_bayes) + (1-rec_bayes) + (1-f1_bayes) + (1-r2_bayes) + mse_bayes)\n",
        "print(\"Modelo de regresión logística:\", log_inexact)\n",
        "print(\"Modelo de árboles de decisión:\", arb_inexact)\n",
        "print(\"Modelo de random forest:\", rf_inexac)\n",
        "print(\"Modelo de KNN:\", knn_inexac)\n",
        "print(\"Modelo de SVC:\", svc_inexac)\n",
        "print(\"Modelo de Gaussian Naive Bayes:\", bayes_inexac)\n",
        "lista_inexac = [log_inexact, arb_inexact, rf_inexac, knn_inexac, svc_inexac, bayes_inexac]\n",
        "ganador = min(lista_inexac)\n",
        "print(\"El modelo elegido es el que tiene menor índice de inexactitud (mayor exactitud en sus métricas en general). En este caso el elegido es:\", ganador)"
      ],
      "metadata": {
        "colab": {
          "base_uri": "https://localhost:8080/"
        },
        "id": "-qJRf1o7lXbA",
        "outputId": "6049bc09-0b0d-4c8e-ad10-5e94678a5b0d"
      },
      "execution_count": 42,
      "outputs": [
        {
          "output_type": "stream",
          "name": "stdout",
          "text": [
            "Modelo de regresión logística: 0.4584002399298817\n",
            "Modelo de árboles de decisión: 0.7664780217637432\n",
            "Modelo de random forest: 0.3814022773090816\n",
            "Modelo de KNN: 0.5340084166361513\n",
            "Modelo de SVC: 0.5979252694611459\n",
            "Modelo de Gaussian Naive Bayes: 0.6090711058369963\n",
            "El modelo elegido es el que tiene menor índice de inexactitud (mayor exactitud en sus métricas en general). En este caso el elegido es: 0.3814022773090816\n"
          ]
        }
      ]
    },
    {
      "cell_type": "markdown",
      "source": [
        "### Una vez realizado este análisis, se puede observar que el modelo que tuvo mejor rendimiento en todas sus métricas en general fue el modelo de Random Forest (esto se confirma también en la tabla de resumen de métricas). Por lo tanto, como dije anteriormente, este será el modelo que elegiré para hacerle Grid Search e implementar los mejores hiperparámetros encontrados en este modelo para finalmente hacer algunas predicciones con este."
      ],
      "metadata": {
        "id": "Y798amSppLHK"
      }
    },
    {
      "cell_type": "code",
      "source": [
        "# Usar grid search en el modelo elegido (Random Forest)\n",
        "from sklearn.model_selection import GridSearchCV\n",
        "\n",
        "# Usar varios hiperparámetros para ver con cuáles funciona mejor el modelo\n",
        "param_grid = {\n",
        "    'n_estimators': [100, 200, 300],          # Cantidad de árboles\n",
        "    'max_depth': [10, 20, 30, None],          # Profundidad máxima de cada árbol\n",
        "    'min_samples_split': [2, 5, 10],          # Número mínimo de muestras (samples) necesarias para dividir un nodo\n",
        "    'min_samples_leaf': [1, 2, 4],            # Número mínimo de muestras necesarias en una hoja\n",
        "    'bootstrap': [True, False]                # Método de muestreo: con (True) o sin (False) reemplazo\n",
        "}\n",
        "\n",
        "# Usar Grid Search\n",
        "grid_search = GridSearchCV(estimator=rf, param_grid=param_grid, cv=5, n_jobs=-1, verbose=2)\n",
        "\n",
        "# Entrenar el modelo con los mejores hiperparámetros encontrados por el Grid Search\n",
        "grid_search.fit(X_train, y_train)\n",
        "\n",
        "# Imprimir los mejores hiperparámetros encontrados\n",
        "print(\"Mejores hiperparámetros encontrados:\", grid_search.best_params_)\n",
        "\n",
        "# Evaluar el mejor modelo\n",
        "best_rf = grid_search.best_estimator_\n",
        "score = best_rf.score(X_test, y_test)\n",
        "\n",
        "# Comparar la exactitud obtenida con Grid Search vs la de antes (pre-Grid Search vs post-Grid Search)\n",
        "print(\"Score del modelo antes de usar Grid Search:\", acc_rf)\n",
        "print(\"Score del modelo con los mejores hiperparámetros (después de usar Grid Search):\", score)"
      ],
      "metadata": {
        "colab": {
          "base_uri": "https://localhost:8080/"
        },
        "id": "ioqXUWNtptQr",
        "outputId": "9192f4de-07de-4b76-c055-b4a39183f7c3"
      },
      "execution_count": 44,
      "outputs": [
        {
          "output_type": "stream",
          "name": "stdout",
          "text": [
            "Fitting 5 folds for each of 216 candidates, totalling 1080 fits\n",
            "Mejores hiperparámetros encontrados: {'bootstrap': False, 'max_depth': 20, 'min_samples_leaf': 1, 'min_samples_split': 5, 'n_estimators': 200}\n",
            "Score del modelo antes de usar Grid Search: 0.956140350877193\n",
            "Score del modelo con los mejores hiperparámetros (después de usar Grid Search): 0.9649122807017544\n"
          ]
        }
      ]
    },
    {
      "cell_type": "markdown",
      "source": [
        "### Ahora que ya utilicé Grid Search en el modelo elegido, se puede ver que su rendimiento sí mejoró, pues antes del Grid Search tenía un score de 0.9561 y ahora aumentó a 0.9649, por lo cual se confirma que sí hubo mejora en el rendimiento tras haber utilizado Grid Search. Por lo tanto, ahora procederé a ponerlo a prueba haciendo algunas predicciones con esta versión mejorada del modelo."
      ],
      "metadata": {
        "id": "RrGb1tFt4A5z"
      }
    },
    {
      "cell_type": "code",
      "source": [
        "# Hacer predicciones\n",
        "y_pred = best_rf.predict(X_test)\n",
        "\n",
        "# Mostrar las primeras 10 predicciones\n",
        "print(\"Predicciones:\", y_pred[:10])\n",
        "\n",
        "# Comparar con los valores reales\n",
        "print(\"Valores reales:\", y_test[:10])\n",
        "\n",
        "# También se pueden predecir probabilidades\n",
        "y_prob = best_rf.predict_proba(X_test)[:10]\n",
        "print(\"Probabilidades de las primeras predicciones:\", y_prob)"
      ],
      "metadata": {
        "colab": {
          "base_uri": "https://localhost:8080/"
        },
        "id": "jhAq1UJd3bkh",
        "outputId": "6637982b-9624-44e1-89c7-070bbbd876b9"
      },
      "execution_count": 45,
      "outputs": [
        {
          "output_type": "stream",
          "name": "stdout",
          "text": [
            "Predicciones: [0 1 1 1 1 1 1 1 1 1]\n",
            "Valores reales: 512    0\n",
            "457    1\n",
            "439    1\n",
            "298    1\n",
            "37     1\n",
            "515    1\n",
            "382    1\n",
            "310    1\n",
            "538    1\n",
            "345    1\n",
            "Name: target, dtype: int64\n",
            "Probabilidades de las primeras predicciones: [[0.995      0.005     ]\n",
            " [0.02666667 0.97333333]\n",
            " [0.00833333 0.99166667]\n",
            " [0.07875    0.92125   ]\n",
            " [0.0275     0.9725    ]\n",
            " [0.0125     0.9875    ]\n",
            " [0.         1.        ]\n",
            " [0.005      0.995     ]\n",
            " [0.00125    0.99875   ]\n",
            " [0.         1.        ]]\n"
          ]
        }
      ]
    },
    {
      "cell_type": "markdown",
      "source": [
        "### Como se puede observar, este modelo mejorado básicamente acertó las 10 predicciones que lo puse a hacer, lo cual confirma que tuvo un buen rendimiento tal como se planeó, pues sus valores de predicción coinciden con los reales (un cero, o sea benigno, en la primera predicción; y un 1, o sea maligno, en las 9 predicciones restantes). Asimismo, como funcionalidad adicional, puede intentar predecir probabilidades sobre predicciones."
      ],
      "metadata": {
        "id": "JIIGYidx7VnJ"
      }
    },
    {
      "cell_type": "code",
      "source": [
        "# Predicción al tener una nueva instancia (sample)\n",
        "nuevos_datos = [[15.0, 14.0, 87.0, 550.0, 0.1, 0.05, 0.03, 0.02, 0.15, 0.07, 0.25, 0.4, 1.5, 20.0, 0.005, 0.02, 0.02, 0.01, 0.03, 0.005, 16.0, 15.0, 90.0, 600.0, 0.12, 0.06, 0.05, 0.03, 0.2, 0.08]]\n",
        "prediccion_nuevos = best_rf.predict(nuevos_datos)\n",
        "print(\"Predicción para el nuevo dato (instancia):\", prediccion_nuevos)"
      ],
      "metadata": {
        "colab": {
          "base_uri": "https://localhost:8080/"
        },
        "id": "sGVtOtng6xG0",
        "outputId": "d37de980-3c06-450e-f3f4-45832270d85f"
      },
      "execution_count": 46,
      "outputs": [
        {
          "output_type": "stream",
          "name": "stdout",
          "text": [
            "Predicción para el nuevo dato (instancia): [1]\n"
          ]
        }
      ]
    },
    {
      "cell_type": "markdown",
      "source": [
        "### Por último, aquí se puede observar cómo el modelo hace una predicción al considerar una nueva instancia de dato (sample) haciendo uso de los mejores hiperparámetros encontrados."
      ],
      "metadata": {
        "id": "6KBji7008gr8"
      }
    },
    {
      "cell_type": "markdown",
      "source": [
        "Grado de sesgo:\n",
        "En este caso, dado las métricas de exactitud, precisión, recall, F1 y MSE, se puede observar que el rendimiento del modelo es alto (bajo error), lo cual significa que el modelo se adapta bien a los datos de entrenamiento, o sea que en este caso el grado de sesgo es bajo."
      ],
      "metadata": {
        "id": "hghgSVbH-ieA"
      }
    },
    {
      "cell_type": "code",
      "source": [
        "y_train_pred = best_rf.predict(X_train)\n",
        "accuracy_train = accuracy_score(y_train, y_train_pred)\n",
        "precision_train = precision_score(y_train, y_train_pred)\n",
        "recall_train = recall_score(y_train, y_train_pred)\n",
        "f1_train = f1_score(y_train, y_train_pred)\n",
        "mse_train = mse(y_train, y_train_pred)\n",
        "print(f\"Sesgo (Bias) - Accuracy en entrenamiento: {accuracy_train}\")\n",
        "print(f\"Sesgo (Bias) - Precision en entrenamiento: {precision_train}\")\n",
        "print(f\"Sesgo (Bias) - Recall en entrenamiento: {recall_train}\")\n",
        "print(f\"Sesgo (Bias) - F1 en entrenamiento: {f1_train}\")\n",
        "print(f\"Sesgo (Bias) - MSE en entrenamiento: {mse_train}\")"
      ],
      "metadata": {
        "colab": {
          "base_uri": "https://localhost:8080/"
        },
        "id": "F0yoF9mMBFxo",
        "outputId": "a94d51dd-e119-4db1-cfcd-8a7759500f04"
      },
      "execution_count": 48,
      "outputs": [
        {
          "output_type": "stream",
          "name": "stdout",
          "text": [
            "Sesgo (Bias) - Accuracy en entrenamiento: 1.0\n",
            "Sesgo (Bias) - Precision en entrenamiento: 1.0\n",
            "Sesgo (Bias) - Recall en entrenamiento: 1.0\n",
            "Sesgo (Bias) - F1 en entrenamiento: 1.0\n",
            "Sesgo (Bias) - MSE en entrenamiento: 0.0\n"
          ]
        }
      ]
    },
    {
      "cell_type": "markdown",
      "source": [
        "Grado de varianza:\n",
        "Si el modelo tiene un buen desempeño en los datos de entrenamiento pero bajo en los datos de prueba, es indicativo de varianza alta (overfitting), pero en este caso tuvo un buen desempeño en ambas, pues su rendimiento no fue muy distante entre entrenamiento y prueba, lo cual indica que el grado de varianza en este caso es bajo."
      ],
      "metadata": {
        "id": "gNQcuLj6BafX"
      }
    },
    {
      "cell_type": "code",
      "source": [
        "# Comparación entre entrenamiento y prueba\n",
        "print(f\"Score en entrenamiento: {accuracy_train}\")\n",
        "print(f\"Score en prueba: {score}\")\n",
        "print(f\"Diferencia entre entrenamiento y prueba: {accuracy_train - score}\")\n",
        "print(f\"MSE en entrenamiento: {mse_train}\")\n",
        "print(f\"MSE en prueba: {mse_rf}\")\n",
        "print(f\"Diferencia entre entrenamiento y prueba en MSE: {mse_rf - mse_train}\")"
      ],
      "metadata": {
        "colab": {
          "base_uri": "https://localhost:8080/"
        },
        "id": "VqWPUyjPCsU5",
        "outputId": "9381e28f-0910-43b7-b3a9-2c4611fdf07e"
      },
      "execution_count": 52,
      "outputs": [
        {
          "output_type": "stream",
          "name": "stdout",
          "text": [
            "Score en entrenamiento: 1.0\n",
            "Score en prueba: 0.9649122807017544\n",
            "Diferencia entre entrenamiento y prueba: 0.03508771929824561\n",
            "MSE en entrenamiento: 0.0\n",
            "MSE en prueba: 0.043859649122807015\n",
            "Diferencia entre entrenamiento y prueba en MSE: 0.043859649122807015\n"
          ]
        }
      ]
    },
    {
      "cell_type": "markdown",
      "source": [
        "Grado de ajuste:\n",
        "En este caso, el grado de ajuste más adecuado se podría decir que sería fitting (no hay overfitting pero tampoco underfitting), ya que tiene grado de sesgo bajo y grado de varianza bajo también, pues tiene error bajo tanto en entrenamiento como en prueba."
      ],
      "metadata": {
        "id": "dyGL2zwqDKp-"
      }
    },
    {
      "cell_type": "markdown",
      "source": [
        "## Gráficas"
      ],
      "metadata": {
        "id": "DBiBWDNUF6tv"
      }
    },
    {
      "cell_type": "code",
      "source": [
        "# Gráfica para matriz de confusión\n",
        "y_pred = best_rf.predict(X_test)\n",
        "cm = confusion_matrix(y_test, y_pred)\n",
        "plt.figure(figsize=(8, 6))\n",
        "sns.heatmap(cm, annot=True, fmt=\"d\", cmap=\"Blues\", xticklabels=[0, 1], yticklabels=[0, 1])\n",
        "plt.title('Matriz de Confusión')\n",
        "plt.ylabel('Etiqueta Verdadera')\n",
        "plt.xlabel('Etiqueta Predicha')\n",
        "plt.show()"
      ],
      "metadata": {
        "colab": {
          "base_uri": "https://localhost:8080/",
          "height": 564
        },
        "id": "ZogSLUiKF6If",
        "outputId": "1d931d2c-ee57-4cc7-88fd-d8c653c96754"
      },
      "execution_count": 53,
      "outputs": [
        {
          "output_type": "display_data",
          "data": {
            "text/plain": [
              "<Figure size 800x600 with 2 Axes>"
            ],
            "image/png": "[encoded data removed]"
          },
          "metadata": {}
        }
      ]
    },
    {
      "cell_type": "code",
      "source": [
        "# Gráfica de curva de aprendizaje (learning curve)\n",
        "from sklearn.model_selection import learning_curve\n",
        "\n",
        "# Curva de aprendizaje\n",
        "train_sizes, train_scores, test_scores = learning_curve(best_rf, X_train, y_train, cv=5, scoring='accuracy')\n",
        "\n",
        "# Promedio de resultados\n",
        "train_scores_mean = np.mean(train_scores, axis=1)\n",
        "test_scores_mean = np.mean(test_scores, axis=1)\n",
        "\n",
        "# Gráfica\n",
        "plt.figure(figsize=(8, 6))\n",
        "plt.plot(train_sizes, train_scores_mean, label='Training Accuracy')\n",
        "plt.plot(train_sizes, test_scores_mean, label='Validation Accuracy')\n",
        "plt.xlabel('Tamaño del Conjunto de Entrenamiento')\n",
        "plt.ylabel('Precisión')\n",
        "plt.title('Curva de Aprendizaje')\n",
        "plt.legend(loc='best')\n",
        "plt.grid()\n",
        "plt.show()"
      ],
      "metadata": {
        "colab": {
          "base_uri": "https://localhost:8080/",
          "height": 564
        },
        "id": "Db8shT0DGVsu",
        "outputId": "55e5585c-25a8-4bf6-f8c2-16f9b15356ce"
      },
      "execution_count": 54,
      "outputs": [
        {
          "output_type": "display_data",
          "data": {
            "text/plain": [
              "<Figure size 800x600 with 1 Axes>"
            ],
            "image/png": "[encoded data removed]"
          },
          "metadata": {}
        }
      ]
    },
    {
      "cell_type": "code",
      "source": [
        "# Gráfica de curva de validación\n",
        "from sklearn.model_selection import validation_curve\n",
        "param_range = np.arange(10, 200, 10)\n",
        "train_scores, test_scores = validation_curve(best_rf, X_train, y_train, param_name=\"n_estimators\", param_range=param_range, cv=5)\n",
        "\n",
        "# Promedio de resultados\n",
        "train_scores_mean = np.mean(train_scores, axis=1)\n",
        "test_scores_mean = np.mean(test_scores, axis=1)\n",
        "\n",
        "# Gráfica\n",
        "plt.figure(figsize=(8, 6))\n",
        "plt.plot(param_range, train_scores_mean, label='Training Accuracy')\n",
        "plt.plot(param_range, test_scores_mean, label='Validation Accuracy')\n",
        "plt.xlabel('Número de Estimadores (n_estimators)')\n",
        "plt.ylabel('Precisión')\n",
        "plt.title('Curva de Validación')\n",
        "plt.legend(loc='best')\n",
        "plt.grid()\n",
        "plt.show()"
      ],
      "metadata": {
        "colab": {
          "base_uri": "https://localhost:8080/",
          "height": 565
        },
        "id": "dbRAdGDQG2-2",
        "outputId": "3bb5cf8a-af3d-4f35-8450-f8984da83318"
      },
      "execution_count": 55,
      "outputs": [
        {
          "output_type": "display_data",
          "data": {
            "text/plain": [
              "<Figure size 800x600 with 1 Axes>"
            ],
            "image/png": "[encoded data removed]"
          },
          "metadata": {}
        }
      ]
    }
  ]
}