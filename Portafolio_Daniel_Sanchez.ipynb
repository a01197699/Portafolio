{
  "nbformat": 4,
  "nbformat_minor": 0,
  "metadata": {
    "colab": {
      "provenance": []
    },
    "kernelspec": {
      "name": "python3",
      "display_name": "Python 3"
    },
    "language_info": {
      "name": "python"
    }
  },
  "cells": [
    {
      "cell_type": "code",
      "source": [
        "import pandas as pd\n",
        "import numpy as np\n",
        "import matplotlib.pyplot as plt\n",
        "from sklearn.datasets import load_diabetes"
      ],
      "metadata": {
        "id": "19qyFBGZ7xlN"
      },
      "execution_count": null,
      "outputs": []
    },
    {
      "cell_type": "code",
      "source": [
        "diabetes = load_diabetes()\n",
        "df = pd.DataFrame(diabetes.data, columns=diabetes.feature_names)\n",
        "df['target'] = diabetes.target\n",
        "df.head() # Ver los datos para tener una idea de lo que contiene el dataset"
      ],
      "metadata": {
        "colab": {
          "base_uri": "https://localhost:8080/",
          "height": 206
        },
        "id": "zICkXmx8744Q",
        "outputId": "39372a51-5e3c-4f3e-a2f2-39878d560795"
      },
      "execution_count": null,
      "outputs": [
        {
          "output_type": "execute_result",
          "data": {
            "text/plain": [
              "        age       sex       bmi        bp        s1        s2        s3  \\\n",
              "0  0.038076  0.050680  0.061696  0.021872 -0.044223 -0.034821 -0.043401   \n",
              "1 -0.001882 -0.044642 -0.051474 -0.026328 -0.008449 -0.019163  0.074412   \n",
              "2  0.085299  0.050680  0.044451 -0.005670 -0.045599 -0.034194 -0.032356   \n",
              "3 -0.089063 -0.044642 -0.011595 -0.036656  0.012191  0.024991 -0.036038   \n",
              "4  0.005383 -0.044642 -0.036385  0.021872  0.003935  0.015596  0.008142   \n",
              "\n",
              "         s4        s5        s6  target  \n",
              "0 -0.002592  0.019907 -0.017646   151.0  \n",
              "1 -0.039493 -0.068332 -0.092204    75.0  \n",
              "2 -0.002592  0.002861 -0.025930   141.0  \n",
              "3  0.034309  0.022688 -0.009362   206.0  \n",
              "4 -0.002592 -0.031988 -0.046641   135.0  "
            ],
            "text/html": [
              "\n",
              "  <div id=\"df-27d773bd-ab4e-4c22-9049-cfc80a982927\" class=\"colab-df-container\">\n",
              "    <div>\n",
              "<style scoped>\n",
              "    .dataframe tbody tr th:only-of-type {\n",
              "        vertical-align: middle;\n",
              "    }\n",
              "\n",
              "    .dataframe tbody tr th {\n",
              "        vertical-align: top;\n",
              "    }\n",
              "\n",
              "    .dataframe thead th {\n",
              "        text-align: right;\n",
              "    }\n",
              "</style>\n",
              "<table border=\"1\" class=\"dataframe\">\n",
              "  <thead>\n",
              "    <tr style=\"text-align: right;\">\n",
              "      <th></th>\n",
              "      <th>age</th>\n",
              "      <th>sex</th>\n",
              "      <th>bmi</th>\n",
              "      <th>bp</th>\n",
              "      <th>s1</th>\n",
              "      <th>s2</th>\n",
              "      <th>s3</th>\n",
              "      <th>s4</th>\n",
              "      <th>s5</th>\n",
              "      <th>s6</th>\n",
              "      <th>target</th>\n",
              "    </tr>\n",
              "  </thead>\n",
              "  <tbody>\n",
              "    <tr>\n",
              "      <th>0</th>\n",
              "      <td>0.038076</td>\n",
              "      <td>0.050680</td>\n",
              "      <td>0.061696</td>\n",
              "      <td>0.021872</td>\n",
              "      <td>-0.044223</td>\n",
              "      <td>-0.034821</td>\n",
              "      <td>-0.043401</td>\n",
              "      <td>-0.002592</td>\n",
              "      <td>0.019907</td>\n",
              "      <td>-0.017646</td>\n",
              "      <td>151.0</td>\n",
              "    </tr>\n",
              "    <tr>\n",
              "      <th>1</th>\n",
              "      <td>-0.001882</td>\n",
              "      <td>-0.044642</td>\n",
              "      <td>-0.051474</td>\n",
              "      <td>-0.026328</td>\n",
              "      <td>-0.008449</td>\n",
              "      <td>-0.019163</td>\n",
              "      <td>0.074412</td>\n",
              "      <td>-0.039493</td>\n",
              "      <td>-0.068332</td>\n",
              "      <td>-0.092204</td>\n",
              "      <td>75.0</td>\n",
              "    </tr>\n",
              "    <tr>\n",
              "      <th>2</th>\n",
              "      <td>0.085299</td>\n",
              "      <td>0.050680</td>\n",
              "      <td>0.044451</td>\n",
              "      <td>-0.005670</td>\n",
              "      <td>-0.045599</td>\n",
              "      <td>-0.034194</td>\n",
              "      <td>-0.032356</td>\n",
              "      <td>-0.002592</td>\n",
              "      <td>0.002861</td>\n",
              "      <td>-0.025930</td>\n",
              "      <td>141.0</td>\n",
              "    </tr>\n",
              "    <tr>\n",
              "      <th>3</th>\n",
              "      <td>-0.089063</td>\n",
              "      <td>-0.044642</td>\n",
              "      <td>-0.011595</td>\n",
              "      <td>-0.036656</td>\n",
              "      <td>0.012191</td>\n",
              "      <td>0.024991</td>\n",
              "      <td>-0.036038</td>\n",
              "      <td>0.034309</td>\n",
              "      <td>0.022688</td>\n",
              "      <td>-0.009362</td>\n",
              "      <td>206.0</td>\n",
              "    </tr>\n",
              "    <tr>\n",
              "      <th>4</th>\n",
              "      <td>0.005383</td>\n",
              "      <td>-0.044642</td>\n",
              "      <td>-0.036385</td>\n",
              "      <td>0.021872</td>\n",
              "      <td>0.003935</td>\n",
              "      <td>0.015596</td>\n",
              "      <td>0.008142</td>\n",
              "      <td>-0.002592</td>\n",
              "      <td>-0.031988</td>\n",
              "      <td>-0.046641</td>\n",
              "      <td>135.0</td>\n",
              "    </tr>\n",
              "  </tbody>\n",
              "</table>\n",
              "</div>\n",
              "    <div class=\"colab-df-buttons\">\n",
              "\n",
              "  <div class=\"colab-df-container\">\n",
              "    <button class=\"colab-df-convert\" onclick=\"convertToInteractive('df-27d773bd-ab4e-4c22-9049-cfc80a982927')\"\n",
              "            title=\"Convert this dataframe to an interactive table.\"\n",
              "            style=\"display:none;\">\n",
              "\n",
              "  <svg xmlns=\"http://www.w3.org/2000/svg\" height=\"24px\" viewBox=\"0 -960 960 960\">\n",
              "    <path d=\"M120-120v-720h720v720H120Zm60-500h600v-160H180v160Zm220 220h160v-160H400v160Zm0 220h160v-160H400v160ZM180-400h160v-160H180v160Zm440 0h160v-160H620v160ZM180-180h160v-160H180v160Zm440 0h160v-160H620v160Z\"/>\n",
              "  </svg>\n",
              "    </button>\n",
              "\n",
              "  <style>\n",
              "    .colab-df-container {\n",
              "      display:flex;\n",
              "      gap: 12px;\n",
              "    }\n",
              "\n",
              "    .colab-df-convert {\n",
              "      background-color: #E8F0FE;\n",
              "      border: none;\n",
              "      border-radius: 50%;\n",
              "      cursor: pointer;\n",
              "      display: none;\n",
              "      fill: #1967D2;\n",
              "      height: 32px;\n",
              "      padding: 0 0 0 0;\n",
              "      width: 32px;\n",
              "    }\n",
              "\n",
              "    .colab-df-convert:hover {\n",
              "      background-color: #E2EBFA;\n",
              "      box-shadow: 0px 1px 2px rgba(60, 64, 67, 0.3), 0px 1px 3px 1px rgba(60, 64, 67, 0.15);\n",
              "      fill: #174EA6;\n",
              "    }\n",
              "\n",
              "    .colab-df-buttons div {\n",
              "      margin-bottom: 4px;\n",
              "    }\n",
              "\n",
              "    [theme=dark] .colab-df-convert {\n",
              "      background-color: #3B4455;\n",
              "      fill: #D2E3FC;\n",
              "    }\n",
              "\n",
              "    [theme=dark] .colab-df-convert:hover {\n",
              "      background-color: #434B5C;\n",
              "      box-shadow: 0px 1px 3px 1px rgba(0, 0, 0, 0.15);\n",
              "      filter: drop-shadow(0px 1px 2px rgba(0, 0, 0, 0.3));\n",
              "      fill: #FFFFFF;\n",
              "    }\n",
              "  </style>\n",
              "\n",
              "    <script>\n",
              "      const buttonEl =\n",
              "        document.querySelector('#df-27d773bd-ab4e-4c22-9049-cfc80a982927 button.colab-df-convert');\n",
              "      buttonEl.style.display =\n",
              "        google.colab.kernel.accessAllowed ? 'block' : 'none';\n",
              "\n",
              "      async function convertToInteractive(key) {\n",
              "        const element = document.querySelector('#df-27d773bd-ab4e-4c22-9049-cfc80a982927');\n",
              "        const dataTable =\n",
              "          await google.colab.kernel.invokeFunction('convertToInteractive',\n",
              "                                                    [key], {});\n",
              "        if (!dataTable) return;\n",
              "\n",
              "        const docLinkHtml = 'Like what you see? Visit the ' +\n",
              "          '<a target=\"_blank\" href=https://colab.research.google.com/notebooks/data_table.ipynb>data table notebook</a>'\n",
              "          + ' to learn more about interactive tables.';\n",
              "        element.innerHTML = '';\n",
              "        dataTable['output_type'] = 'display_data';\n",
              "        await google.colab.output.renderOutput(dataTable, element);\n",
              "        const docLink = document.createElement('div');\n",
              "        docLink.innerHTML = docLinkHtml;\n",
              "        element.appendChild(docLink);\n",
              "      }\n",
              "    </script>\n",
              "  </div>\n",
              "\n",
              "\n",
              "<div id=\"df-6d203ffb-6c41-4c50-948f-38310e347721\">\n",
              "  <button class=\"colab-df-quickchart\" onclick=\"quickchart('df-6d203ffb-6c41-4c50-948f-38310e347721')\"\n",
              "            title=\"Suggest charts\"\n",
              "            style=\"display:none;\">\n",
              "\n",
              "<svg xmlns=\"http://www.w3.org/2000/svg\" height=\"24px\"viewBox=\"0 0 24 24\"\n",
              "     width=\"24px\">\n",
              "    <g>\n",
              "        <path d=\"M19 3H5c-1.1 0-2 .9-2 2v14c0 1.1.9 2 2 2h14c1.1 0 2-.9 2-2V5c0-1.1-.9-2-2-2zM9 17H7v-7h2v7zm4 0h-2V7h2v10zm4 0h-2v-4h2v4z\"/>\n",
              "    </g>\n",
              "</svg>\n",
              "  </button>\n",
              "\n",
              "<style>\n",
              "  .colab-df-quickchart {\n",
              "      --bg-color: #E8F0FE;\n",
              "      --fill-color: #1967D2;\n",
              "      --hover-bg-color: #E2EBFA;\n",
              "      --hover-fill-color: #174EA6;\n",
              "      --disabled-fill-color: #AAA;\n",
              "      --disabled-bg-color: #DDD;\n",
              "  }\n",
              "\n",
              "  [theme=dark] .colab-df-quickchart {\n",
              "      --bg-color: #3B4455;\n",
              "      --fill-color: #D2E3FC;\n",
              "      --hover-bg-color: #434B5C;\n",
              "      --hover-fill-color: #FFFFFF;\n",
              "      --disabled-bg-color: #3B4455;\n",
              "      --disabled-fill-color: #666;\n",
              "  }\n",
              "\n",
              "  .colab-df-quickchart {\n",
              "    background-color: var(--bg-color);\n",
              "    border: none;\n",
              "    border-radius: 50%;\n",
              "    cursor: pointer;\n",
              "    display: none;\n",
              "    fill: var(--fill-color);\n",
              "    height: 32px;\n",
              "    padding: 0;\n",
              "    width: 32px;\n",
              "  }\n",
              "\n",
              "  .colab-df-quickchart:hover {\n",
              "    background-color: var(--hover-bg-color);\n",
              "    box-shadow: 0 1px 2px rgba(60, 64, 67, 0.3), 0 1px 3px 1px rgba(60, 64, 67, 0.15);\n",
              "    fill: var(--button-hover-fill-color);\n",
              "  }\n",
              "\n",
              "  .colab-df-quickchart-complete:disabled,\n",
              "  .colab-df-quickchart-complete:disabled:hover {\n",
              "    background-color: var(--disabled-bg-color);\n",
              "    fill: var(--disabled-fill-color);\n",
              "    box-shadow: none;\n",
              "  }\n",
              "\n",
              "  .colab-df-spinner {\n",
              "    border: 2px solid var(--fill-color);\n",
              "    border-color: transparent;\n",
              "    border-bottom-color: var(--fill-color);\n",
              "    animation:\n",
              "      spin 1s steps(1) infinite;\n",
              "  }\n",
              "\n",
              "  @keyframes spin {\n",
              "    0% {\n",
              "      border-color: transparent;\n",
              "      border-bottom-color: var(--fill-color);\n",
              "      border-left-color: var(--fill-color);\n",
              "    }\n",
              "    20% {\n",
              "      border-color: transparent;\n",
              "      border-left-color: var(--fill-color);\n",
              "      border-top-color: var(--fill-color);\n",
              "    }\n",
              "    30% {\n",
              "      border-color: transparent;\n",
              "      border-left-color: var(--fill-color);\n",
              "      border-top-color: var(--fill-color);\n",
              "      border-right-color: var(--fill-color);\n",
              "    }\n",
              "    40% {\n",
              "      border-color: transparent;\n",
              "      border-right-color: var(--fill-color);\n",
              "      border-top-color: var(--fill-color);\n",
              "    }\n",
              "    60% {\n",
              "      border-color: transparent;\n",
              "      border-right-color: var(--fill-color);\n",
              "    }\n",
              "    80% {\n",
              "      border-color: transparent;\n",
              "      border-right-color: var(--fill-color);\n",
              "      border-bottom-color: var(--fill-color);\n",
              "    }\n",
              "    90% {\n",
              "      border-color: transparent;\n",
              "      border-bottom-color: var(--fill-color);\n",
              "    }\n",
              "  }\n",
              "</style>\n",
              "\n",
              "  <script>\n",
              "    async function quickchart(key) {\n",
              "      const quickchartButtonEl =\n",
              "        document.querySelector('#' + key + ' button');\n",
              "      quickchartButtonEl.disabled = true;  // To prevent multiple clicks.\n",
              "      quickchartButtonEl.classList.add('colab-df-spinner');\n",
              "      try {\n",
              "        const charts = await google.colab.kernel.invokeFunction(\n",
              "            'suggestCharts', [key], {});\n",
              "      } catch (error) {\n",
              "        console.error('Error during call to suggestCharts:', error);\n",
              "      }\n",
              "      quickchartButtonEl.classList.remove('colab-df-spinner');\n",
              "      quickchartButtonEl.classList.add('colab-df-quickchart-complete');\n",
              "    }\n",
              "    (() => {\n",
              "      let quickchartButtonEl =\n",
              "        document.querySelector('#df-6d203ffb-6c41-4c50-948f-38310e347721 button');\n",
              "      quickchartButtonEl.style.display =\n",
              "        google.colab.kernel.accessAllowed ? 'block' : 'none';\n",
              "    })();\n",
              "  </script>\n",
              "</div>\n",
              "\n",
              "    </div>\n",
              "  </div>\n"
            ],
            "application/vnd.google.colaboratory.intrinsic+json": {
              "type": "dataframe",
              "variable_name": "df",
              "summary": "{\n  \"name\": \"df\",\n  \"rows\": 442,\n  \"fields\": [\n    {\n      \"column\": \"age\",\n      \"properties\": {\n        \"dtype\": \"number\",\n        \"std\": 0.047619047619047644,\n        \"min\": -0.1072256316073538,\n        \"max\": 0.11072667545381144,\n        \"num_unique_values\": 58,\n        \"samples\": [\n          0.038075906433423026,\n          -0.09269547780327612,\n          0.01991321417832592\n        ],\n        \"semantic_type\": \"\",\n        \"description\": \"\"\n      }\n    },\n    {\n      \"column\": \"sex\",\n      \"properties\": {\n        \"dtype\": \"number\",\n        \"std\": 0.047619047619047665,\n        \"min\": -0.044641636506989144,\n        \"max\": 0.05068011873981862,\n        \"num_unique_values\": 2,\n        \"samples\": [\n          -0.044641636506989144,\n          0.05068011873981862\n        ],\n        \"semantic_type\": \"\",\n        \"description\": \"\"\n      }\n    },\n    {\n      \"column\": \"bmi\",\n      \"properties\": {\n        \"dtype\": \"number\",\n        \"std\": 0.047619047619047616,\n        \"min\": -0.09027529589850945,\n        \"max\": 0.17055522598064407,\n        \"num_unique_values\": 163,\n        \"samples\": [\n          0.008883414898524095,\n          -0.05470749746044306\n        ],\n        \"semantic_type\": \"\",\n        \"description\": \"\"\n      }\n    },\n    {\n      \"column\": \"bp\",\n      \"properties\": {\n        \"dtype\": \"number\",\n        \"std\": 0.047619047619047596,\n        \"min\": -0.11239880254408448,\n        \"max\": 0.13204361674121307,\n        \"num_unique_values\": 100,\n        \"samples\": [\n          0.03333707926361473,\n          0.02531523648988596\n        ],\n        \"semantic_type\": \"\",\n        \"description\": \"\"\n      }\n    },\n    {\n      \"column\": \"s1\",\n      \"properties\": {\n        \"dtype\": \"number\",\n        \"std\": 0.04761904761904759,\n        \"min\": -0.12678066991651324,\n        \"max\": 0.15391371315651542,\n        \"num_unique_values\": 141,\n        \"samples\": [\n          0.041085578784023497,\n          0.08374011738825825\n        ],\n        \"semantic_type\": \"\",\n        \"description\": \"\"\n      }\n    },\n    {\n      \"column\": \"s2\",\n      \"properties\": {\n        \"dtype\": \"number\",\n        \"std\": 0.047619047619047644,\n        \"min\": -0.11561306597939897,\n        \"max\": 0.19878798965729408,\n        \"num_unique_values\": 302,\n        \"samples\": [\n          0.07415490186505921,\n          0.07008397186179521\n        ],\n        \"semantic_type\": \"\",\n        \"description\": \"\"\n      }\n    },\n    {\n      \"column\": \"s3\",\n      \"properties\": {\n        \"dtype\": \"number\",\n        \"std\": 0.047619047619047596,\n        \"min\": -0.10230705051741597,\n        \"max\": 0.18117906039727852,\n        \"num_unique_values\": 63,\n        \"samples\": [\n          0.09281975309919192,\n          0.15908923357275687\n        ],\n        \"semantic_type\": \"\",\n        \"description\": \"\"\n      }\n    },\n    {\n      \"column\": \"s4\",\n      \"properties\": {\n        \"dtype\": \"number\",\n        \"std\": 0.047619047619047616,\n        \"min\": -0.0763945037500033,\n        \"max\": 0.18523444326019867,\n        \"num_unique_values\": 66,\n        \"samples\": [\n          0.08670845052151895,\n          -0.024732934523729287\n        ],\n        \"semantic_type\": \"\",\n        \"description\": \"\"\n      }\n    },\n    {\n      \"column\": \"s5\",\n      \"properties\": {\n        \"dtype\": \"number\",\n        \"std\": 0.047619047619047616,\n        \"min\": -0.12609712083330468,\n        \"max\": 0.13359728192191356,\n        \"num_unique_values\": 184,\n        \"samples\": [\n          -0.07213275338232743,\n          -0.021395309255276825\n        ],\n        \"semantic_type\": \"\",\n        \"description\": \"\"\n      }\n    },\n    {\n      \"column\": \"s6\",\n      \"properties\": {\n        \"dtype\": \"number\",\n        \"std\": 0.047619047619047644,\n        \"min\": -0.13776722569000302,\n        \"max\": 0.13561183068907107,\n        \"num_unique_values\": 56,\n        \"samples\": [\n          -0.01764612515980379,\n          -0.09634615654165846\n        ],\n        \"semantic_type\": \"\",\n        \"description\": \"\"\n      }\n    },\n    {\n      \"column\": \"target\",\n      \"properties\": {\n        \"dtype\": \"number\",\n        \"std\": 77.09300453299109,\n        \"min\": 25.0,\n        \"max\": 346.0,\n        \"num_unique_values\": 214,\n        \"samples\": [\n          310.0,\n          140.0\n        ],\n        \"semantic_type\": \"\",\n        \"description\": \"\"\n      }\n    }\n  ]\n}"
            }
          },
          "metadata": {},
          "execution_count": 2
        }
      ]
    },
    {
      "cell_type": "code",
      "source": [
        "print(df.shape) # Ver las dimensiones del dataset para saber cuántas features (columnas) e instancias (filas) tiene"
      ],
      "metadata": {
        "colab": {
          "base_uri": "https://localhost:8080/"
        },
        "id": "Z2nG6Mul-7oi",
        "outputId": "06f69cf0-09e5-4c53-a551-3c31f9dfa929"
      },
      "execution_count": null,
      "outputs": [
        {
          "output_type": "stream",
          "name": "stdout",
          "text": [
            "(442, 11)\n"
          ]
        }
      ]
    },
    {
      "cell_type": "markdown",
      "source": [
        "### Como hay algunas columnas (features) que están abreviadas, necesito saber qué significan esas features que no son tan claras para poder continuar"
      ],
      "metadata": {
        "id": "8FHRN_A-_mUz"
      }
    },
    {
      "cell_type": "code",
      "source": [
        "diabetes.DESCR # Ver la descripción del dataset para tener una idea de lo que significan las features"
      ],
      "metadata": {
        "colab": {
          "base_uri": "https://localhost:8080/",
          "height": 127
        },
        "id": "CnPGBOy6_SDf",
        "outputId": "75d4d420-d399-4b98-8c28-0bfd838182d7"
      },
      "execution_count": null,
      "outputs": [
        {
          "output_type": "execute_result",
          "data": {
            "text/plain": [
              "'.. _diabetes_dataset:\\n\\nDiabetes dataset\\n----------------\\n\\nTen baseline variables, age, sex, body mass index, average blood\\npressure, and six blood serum measurements were obtained for each of n =\\n442 diabetes patients, as well as the response of interest, a\\nquantitative measure of disease progression one year after baseline.\\n\\n**Data Set Characteristics:**\\n\\n  :Number of Instances: 442\\n\\n  :Number of Attributes: First 10 columns are numeric predictive values\\n\\n  :Target: Column 11 is a quantitative measure of disease progression one year after baseline\\n\\n  :Attribute Information:\\n      - age     age in years\\n      - sex\\n      - bmi     body mass index\\n      - bp      average blood pressure\\n      - s1      tc, total serum cholesterol\\n      - s2      ldl, low-density lipoproteins\\n      - s3      hdl, high-density lipoproteins\\n      - s4      tch, total cholesterol / HDL\\n      - s5      ltg, possibly log of serum triglycerides level\\n      - s6      glu, blood sugar level\\n\\nNote: Each of these 10 feature variables have been mean centered and scaled by the standard deviation times the square root of `n_samples` (i.e. the sum of squares of each column totals 1).\\n\\nSource URL:\\nhttps://www4.stat.ncsu.edu/~boos/var.select/diabetes.html\\n\\nFor more information see:\\nBradley Efron, Trevor Hastie, Iain Johnstone and Robert Tibshirani (2004) \"Least Angle Regression,\" Annals of Statistics (with discussion), 407-499.\\n(https://web.stanford.edu/~hastie/Papers/LARS/LeastAngle_2002.pdf)\\n'"
            ],
            "application/vnd.google.colaboratory.intrinsic+json": {
              "type": "string"
            }
          },
          "metadata": {},
          "execution_count": 4
        }
      ]
    },
    {
      "cell_type": "markdown",
      "source": [
        "### Limpieza de los datos (o en este caso simplemente asegurar que no haya datos faltantes para poder continuar)"
      ],
      "metadata": {
        "id": "Itdtib5bBD_9"
      }
    },
    {
      "cell_type": "code",
      "source": [
        "df.isnull().sum() # Ver si hay datos faltantes en el dataset"
      ],
      "metadata": {
        "colab": {
          "base_uri": "https://localhost:8080/",
          "height": 429
        },
        "id": "I7z-53QiBCmg",
        "outputId": "6d3d3bd0-69c6-48d8-ea54-54b5c86f8a6b"
      },
      "execution_count": null,
      "outputs": [
        {
          "output_type": "execute_result",
          "data": {
            "text/plain": [
              "age       0\n",
              "sex       0\n",
              "bmi       0\n",
              "bp        0\n",
              "s1        0\n",
              "s2        0\n",
              "s3        0\n",
              "s4        0\n",
              "s5        0\n",
              "s6        0\n",
              "target    0\n",
              "dtype: int64"
            ],
            "text/html": [
              "<div>\n",
              "<style scoped>\n",
              "    .dataframe tbody tr th:only-of-type {\n",
              "        vertical-align: middle;\n",
              "    }\n",
              "\n",
              "    .dataframe tbody tr th {\n",
              "        vertical-align: top;\n",
              "    }\n",
              "\n",
              "    .dataframe thead th {\n",
              "        text-align: right;\n",
              "    }\n",
              "</style>\n",
              "<table border=\"1\" class=\"dataframe\">\n",
              "  <thead>\n",
              "    <tr style=\"text-align: right;\">\n",
              "      <th></th>\n",
              "      <th>0</th>\n",
              "    </tr>\n",
              "  </thead>\n",
              "  <tbody>\n",
              "    <tr>\n",
              "      <th>age</th>\n",
              "      <td>0</td>\n",
              "    </tr>\n",
              "    <tr>\n",
              "      <th>sex</th>\n",
              "      <td>0</td>\n",
              "    </tr>\n",
              "    <tr>\n",
              "      <th>bmi</th>\n",
              "      <td>0</td>\n",
              "    </tr>\n",
              "    <tr>\n",
              "      <th>bp</th>\n",
              "      <td>0</td>\n",
              "    </tr>\n",
              "    <tr>\n",
              "      <th>s1</th>\n",
              "      <td>0</td>\n",
              "    </tr>\n",
              "    <tr>\n",
              "      <th>s2</th>\n",
              "      <td>0</td>\n",
              "    </tr>\n",
              "    <tr>\n",
              "      <th>s3</th>\n",
              "      <td>0</td>\n",
              "    </tr>\n",
              "    <tr>\n",
              "      <th>s4</th>\n",
              "      <td>0</td>\n",
              "    </tr>\n",
              "    <tr>\n",
              "      <th>s5</th>\n",
              "      <td>0</td>\n",
              "    </tr>\n",
              "    <tr>\n",
              "      <th>s6</th>\n",
              "      <td>0</td>\n",
              "    </tr>\n",
              "    <tr>\n",
              "      <th>target</th>\n",
              "      <td>0</td>\n",
              "    </tr>\n",
              "  </tbody>\n",
              "</table>\n",
              "</div><br><label><b>dtype:</b> int64</label>"
            ]
          },
          "metadata": {},
          "execution_count": 5
        }
      ]
    },
    {
      "cell_type": "markdown",
      "source": [
        "### Tras esto pude ver que no hay ningún dato faltante en el dataset, así que procedo a definir \"X\" y \"y\""
      ],
      "metadata": {
        "id": "9svNMXuiBeTm"
      }
    },
    {
      "cell_type": "code",
      "source": [
        "# Con esto defino \"X\" y \"y\" para usarlas después al configurar el modelo (en este caso para X escogí el bmi)\n",
        "X = diabetes.data[:, np.newaxis, 2]\n",
        "y = diabetes.target\n",
        "\n",
        "# Añadir una columna de unos para el término de intercepción (bias)\n",
        "X = np.c_[np.ones(X.shape[0]), X]"
      ],
      "metadata": {
        "id": "Av6JX_Mr9QvC"
      },
      "execution_count": null,
      "outputs": []
    },
    {
      "cell_type": "markdown",
      "source": [
        "### Ahora que ya definí \"X\" y \"y\", y tras ver que no hay datos faltantes en ninguna de las features del dataset, ya puedo proceder a dividir el dataset en sets de train y test para luego empezar a desarrollar el modelo"
      ],
      "metadata": {
        "id": "LY0zxo65-zFu"
      }
    },
    {
      "cell_type": "code",
      "source": [
        "indices = np.arange(X.shape[0])\n",
        "np.random.shuffle(indices) # esto para que al dividir el dataset se haga revuelto al azar para que el modelo se entrene de manera más realista\n",
        "X = X[indices]\n",
        "y = y[indices]\n",
        "# Imprimo las dimensiones de las X y \"y\" que definí para asegurar que lo hice bien y pueda funcionar lo que sigue\n",
        "print(\"Dimensiones de X:\", X.shape)\n",
        "print(\"Dimensiones de y:\", y.shape)"
      ],
      "metadata": {
        "colab": {
          "base_uri": "https://localhost:8080/"
        },
        "id": "D1sVyNnV9M65",
        "outputId": "c5af52cc-f326-4dc6-81ce-eff9fb7a7332"
      },
      "execution_count": null,
      "outputs": [
        {
          "output_type": "stream",
          "name": "stdout",
          "text": [
            "Dimensiones de X: (442, 2)\n",
            "Dimensiones de y: (442,)\n"
          ]
        }
      ]
    },
    {
      "cell_type": "code",
      "source": [
        "# Dividir el dataset en set de entrenamiento (80%) y set de testeo (20%)\n",
        "dividir = int(0.8 * len(X))\n",
        "X_train = X[:dividir]\n",
        "X_test = X[dividir:]\n",
        "y_train = y[:dividir]\n",
        "y_test = y[dividir:]\n",
        "# Imprimo las dimensiones de las variables de entrenamiento y testeo para asegurar que el dataset se dividió con la proporción correcta\n",
        "print(\"Dimensiones de X_train:\", X_train.shape)\n",
        "print(\"Dimensiones de X_test:\", X_test.shape)\n",
        "print(\"Dimensiones de y_train:\", y_train.shape)\n",
        "print(\"Dimensiones de y_test:\", y_test.shape)"
      ],
      "metadata": {
        "colab": {
          "base_uri": "https://localhost:8080/"
        },
        "id": "NAPMdcNYDIMa",
        "outputId": "1ac3e31a-7afb-407f-9b8b-71d84ac69b33"
      },
      "execution_count": null,
      "outputs": [
        {
          "output_type": "stream",
          "name": "stdout",
          "text": [
            "Dimensiones de X_train: (353, 2)\n",
            "Dimensiones de X_test: (89, 2)\n",
            "Dimensiones de y_train: (353,)\n",
            "Dimensiones de y_test: (89,)\n"
          ]
        }
      ]
    },
    {
      "cell_type": "markdown",
      "source": [
        "### Ya habiendo funcionado todo lo anterior, ahora sí procedo a configurar el modelo (en este caso escogí el de regresión lineal con gradient descent) junto con sus funciones requeridas para que sea entrenado para poder hacer predicciones"
      ],
      "metadata": {
        "id": "kyvO4nKCEu2a"
      }
    },
    {
      "cell_type": "code",
      "source": [
        "# Inicializar theta\n",
        "theta = np.zeros(X_train.shape[1])\n",
        "\n",
        "# Definir la cantidad de épocas de entrenamiento (epochs) y el alpha (learning rate)\n",
        "epochs = 100000\n",
        "alpha = 0.05\n",
        "\n",
        "# Función de costo (MSE)\n",
        "def MSE_costo(X, y, theta):\n",
        "    m = len(y)\n",
        "    predic = X @ theta\n",
        "    costo = (1/2*m) * np.sum((predic - y) ** 2)\n",
        "    return costo\n",
        "\n",
        "# Función para el gradient descent\n",
        "def grad(X, y, theta, alpha, epochs):\n",
        "    m = len(y)\n",
        "    cost_history = [] # Esto para poder guardar todos los costos que se vayan calculando durante las epochs mientras se entrena el modelo\n",
        "\n",
        "    for epoch in range(epochs):\n",
        "        predic = X @ theta\n",
        "        error = predic - y\n",
        "        gradient = (1/m) * (X.T @ error)\n",
        "        theta = theta - alpha * gradient\n",
        "        # Guardar el costo en cada epoch\n",
        "        costo = MSE_costo(X, y, theta)\n",
        "        cost_history.append(costo)\n",
        "\n",
        "        # Imprimir el costo (loss) cada mil epochs para ir viendo el progreso del entrenamiento\n",
        "        if epoch % 1000 == 0:\n",
        "            print(f\"Epoch {epoch}: Costo (loss) = {costo}\")\n",
        "    return theta, cost_history\n",
        "\n",
        "def predict(x, theta): # Esta función es para hacer una predicción con el modelo ya entrenado (le doy un valor \"x\" y arroja una predicción para \"y\")\n",
        "    x = np.array([1, x])\n",
        "    return x @ theta"
      ],
      "metadata": {
        "id": "YnKkKt5UEcg3"
      },
      "execution_count": null,
      "outputs": []
    },
    {
      "cell_type": "markdown",
      "source": [
        "### Ya que definí las funciones ahora sí procedo a entrenar el modelo"
      ],
      "metadata": {
        "id": "vg-OJA4uOcKW"
      }
    },
    {
      "cell_type": "code",
      "source": [
        "# Entrenar el modelo\n",
        "theta, cost_history = grad(X_train, y_train, theta, alpha, epochs)\n",
        "# Predecir en el set de testeo\n",
        "y_pred = X_test @ theta"
      ],
      "metadata": {
        "colab": {
          "base_uri": "https://localhost:8080/"
        },
        "id": "uSSlyXzROZnQ",
        "outputId": "0cb48230-77e7-4276-8ae9-68359831ff05"
      },
      "execution_count": null,
      "outputs": [
        {
          "output_type": "stream",
          "name": "stdout",
          "text": [
            "Epoch 0: Costo (loss) = 1613406189.5244973\n",
            "Epoch 1000: Costo (loss) = 329718515.275309\n",
            "Epoch 2000: Costo (loss) = 313376882.16271293\n",
            "Epoch 3000: Costo (loss) = 300074538.10307896\n",
            "Epoch 4000: Costo (loss) = 289246222.7038986\n",
            "Epoch 5000: Costo (loss) = 280431805.1953388\n",
            "Epoch 6000: Costo (loss) = 273256731.9590079\n",
            "Epoch 7000: Costo (loss) = 267416110.51162186\n",
            "Epoch 8000: Costo (loss) = 262661753.61963406\n",
            "Epoch 9000: Costo (loss) = 258791633.0066114\n",
            "Epoch 10000: Costo (loss) = 255641294.50665894\n",
            "Epoch 11000: Costo (loss) = 253076869.86550266\n",
            "Epoch 12000: Costo (loss) = 250989388.23764917\n",
            "Epoch 13000: Costo (loss) = 249290145.65641242\n",
            "Epoch 14000: Costo (loss) = 247906935.7103411\n",
            "Epoch 15000: Costo (loss) = 246780981.25508127\n",
            "Epoch 16000: Costo (loss) = 245864436.77900946\n",
            "Epoch 17000: Costo (loss) = 245118355.28992814\n",
            "Epoch 18000: Costo (loss) = 244511033.32914856\n",
            "Epoch 19000: Costo (loss) = 244016663.78715733\n",
            "Epoch 20000: Costo (loss) = 243614239.2745729\n",
            "Epoch 21000: Costo (loss) = 243286659.44901055\n",
            "Epoch 22000: Costo (loss) = 243020004.36523762\n",
            "Epoch 23000: Costo (loss) = 242802942.97087407\n",
            "Epoch 24000: Costo (loss) = 242626251.61267298\n",
            "Epoch 25000: Costo (loss) = 242482422.09312868\n",
            "Epoch 26000: Costo (loss) = 242365342.62244627\n",
            "Epoch 27000: Costo (loss) = 242270038.10847214\n",
            "Epoch 28000: Costo (loss) = 242192458.74865022\n",
            "Epoch 29000: Costo (loss) = 242129307.9405782\n",
            "Epoch 30000: Costo (loss) = 242077902.1985187\n",
            "Epoch 31000: Costo (loss) = 242036057.1232557\n",
            "Epoch 32000: Costo (loss) = 242001994.57978073\n",
            "Epoch 33000: Costo (loss) = 241974267.1384823\n",
            "Epoch 34000: Costo (loss) = 241951696.56909648\n",
            "Epoch 35000: Costo (loss) = 241933323.77382427\n",
            "Epoch 36000: Costo (loss) = 241918368.03210828\n",
            "Epoch 37000: Costo (loss) = 241906193.82524648\n",
            "Epoch 38000: Costo (loss) = 241896283.8311099\n",
            "Epoch 39000: Costo (loss) = 241888216.9414223\n",
            "Epoch 40000: Costo (loss) = 241881650.36748344\n",
            "Epoch 41000: Costo (loss) = 241876305.07394844\n",
            "Epoch 42000: Costo (loss) = 241871953.92169756\n",
            "Epoch 43000: Costo (loss) = 241868412.01594684\n",
            "Epoch 44000: Costo (loss) = 241865528.8494604\n",
            "Epoch 45000: Costo (loss) = 241863181.9070025\n",
            "Epoch 46000: Costo (loss) = 241861271.45926163\n",
            "Epoch 47000: Costo (loss) = 241859716.32502365\n",
            "Epoch 48000: Costo (loss) = 241858450.4215151\n",
            "Epoch 49000: Costo (loss) = 241857419.95632836\n",
            "Epoch 50000: Costo (loss) = 241856581.1416052\n",
            "Epoch 51000: Costo (loss) = 241855898.33334655\n",
            "Epoch 52000: Costo (loss) = 241855342.5167815\n",
            "Epoch 53000: Costo (loss) = 241854890.0734344\n",
            "Epoch 54000: Costo (loss) = 241854521.77749795\n",
            "Epoch 55000: Costo (loss) = 241854221.97886533\n",
            "Epoch 56000: Costo (loss) = 241853977.93810558\n",
            "Epoch 57000: Costo (loss) = 241853779.28512347\n",
            "Epoch 58000: Costo (loss) = 241853617.57849973\n",
            "Epoch 59000: Costo (loss) = 241853485.94678763\n",
            "Epoch 60000: Costo (loss) = 241853378.79652226\n",
            "Epoch 61000: Costo (loss) = 241853291.5745363\n",
            "Epoch 62000: Costo (loss) = 241853220.57448012\n",
            "Epoch 63000: Costo (loss) = 241853162.77932784\n",
            "Epoch 64000: Costo (loss) = 241853115.73317304\n",
            "Epoch 65000: Costo (loss) = 241853077.43686977\n",
            "Epoch 66000: Costo (loss) = 241853046.263082\n",
            "Epoch 67000: Costo (loss) = 241853020.88713285\n",
            "Epoch 68000: Costo (loss) = 241853000.23071477\n",
            "Epoch 69000: Costo (loss) = 241852983.41606846\n",
            "Epoch 70000: Costo (loss) = 241852969.72868428\n",
            "Epoch 71000: Costo (loss) = 241852958.58694026\n",
            "Epoch 72000: Costo (loss) = 241852949.51738694\n",
            "Epoch 73000: Costo (loss) = 241852942.13462916\n",
            "Epoch 74000: Costo (loss) = 241852936.1249493\n",
            "Epoch 75000: Costo (loss) = 241852931.2329762\n",
            "Epoch 76000: Costo (loss) = 241852927.25083387\n",
            "Epoch 77000: Costo (loss) = 241852924.00930792\n",
            "Epoch 78000: Costo (loss) = 241852921.3706553\n",
            "Epoch 79000: Costo (loss) = 241852919.2227509\n",
            "Epoch 80000: Costo (loss) = 241852917.4743233\n",
            "Epoch 81000: Costo (loss) = 241852916.05107594\n",
            "Epoch 82000: Costo (loss) = 241852914.89253038\n",
            "Epoch 83000: Costo (loss) = 241852913.9494563\n",
            "Epoch 84000: Costo (loss) = 241852913.18177927\n",
            "Epoch 85000: Costo (loss) = 241852912.5568782\n",
            "Epoch 86000: Costo (loss) = 241852912.04819894\n",
            "Epoch 87000: Costo (loss) = 241852911.6341262\n",
            "Epoch 88000: Costo (loss) = 241852911.29706445\n",
            "Epoch 89000: Costo (loss) = 241852911.02269095\n",
            "Epoch 90000: Costo (loss) = 241852910.7993467\n",
            "Epoch 91000: Costo (loss) = 241852910.61754093\n",
            "Epoch 92000: Costo (loss) = 241852910.46954823\n",
            "Epoch 93000: Costo (loss) = 241852910.34907985\n",
            "Epoch 94000: Costo (loss) = 241852910.25101674\n",
            "Epoch 95000: Costo (loss) = 241852910.1711918\n",
            "Epoch 96000: Costo (loss) = 241852910.1062131\n",
            "Epoch 97000: Costo (loss) = 241852910.05331936\n",
            "Epoch 98000: Costo (loss) = 241852910.0102631\n",
            "Epoch 99000: Costo (loss) = 241852909.97521463\n"
          ]
        }
      ]
    },
    {
      "cell_type": "markdown",
      "source": [
        "### MSE"
      ],
      "metadata": {
        "id": "Vr5v3gGKWA1W"
      }
    },
    {
      "cell_type": "code",
      "source": [
        "# Calcular el Mean square error (MSE)\n",
        "MSE = np.mean((y_pred - y_test) ** 2)\n",
        "print(f\"Mean square error: {MSE}\") # Imprimir el MSE"
      ],
      "metadata": {
        "colab": {
          "base_uri": "https://localhost:8080/"
        },
        "id": "dEJCryRVP8Fp",
        "outputId": "4f239625-334d-4f11-8c50-b5351a16598a"
      },
      "execution_count": null,
      "outputs": [
        {
          "output_type": "stream",
          "name": "stdout",
          "text": [
            "Mean square error: 3945.659482171071\n"
          ]
        }
      ]
    },
    {
      "cell_type": "markdown",
      "source": [
        "### Gráfica para ver los valores observados del dataset y la línea de regresión, la cual representa los valores predecidos por el modelo tras haber completado su entrenamiento"
      ],
      "metadata": {
        "id": "MH1zHUpnWF8k"
      }
    },
    {
      "cell_type": "code",
      "source": [
        "# Imprimir gráfica\n",
        "plt.scatter(X_test[:, 1], y_test, color='blue', label = 'Valores observados (reales)')\n",
        "plt.plot(X_test[:, 1], y_pred, color='red', label = 'Regresión (valores predecidos)')\n",
        "plt.xlabel('bmi')\n",
        "plt.ylabel('Progresión de diabetes')\n",
        "plt.legend()\n",
        "plt.show()"
      ],
      "metadata": {
        "colab": {
          "base_uri": "https://localhost:8080/",
          "height": 449
        },
        "id": "zjnEARaoHJrm",
        "outputId": "cb9e575b-1362-4f59-f829-76a71a1266c8"
      },
      "execution_count": null,
      "outputs": [
        {
          "output_type": "display_data",
          "data": {
            "text/plain": [
              "<Figure size 640x480 with 1 Axes>"
            ],
            "image/png": "[encoded data removed]"
          },
          "metadata": {}
        }
      ]
    },
    {
      "cell_type": "markdown",
      "source": [
        "### Aquí uso la función predict que había definido previamente para poder hacer predicciones ya con el modelo entrenado y al final muestro un ejemplo de una predicción"
      ],
      "metadata": {
        "id": "Z64srascW04J"
      }
    },
    {
      "cell_type": "code",
      "source": [
        "# Hacer predicción con el modelo ya entrenado\n",
        "x_new = 0.07\n",
        "y_new = predict(x_new, theta)\n",
        "print(\"Para x = {}, la predicción de 'y' es y = {}\".format(x_new, y_new))"
      ],
      "metadata": {
        "colab": {
          "base_uri": "https://localhost:8080/"
        },
        "id": "HAqJZujkRXCo",
        "outputId": "dd0c90ae-d386-4802-c84f-783fa5a45451"
      },
      "execution_count": null,
      "outputs": [
        {
          "output_type": "stream",
          "name": "stdout",
          "text": [
            "Para x = 0.07, la predicción de 'y' es y = 214.98547788114368\n"
          ]
        }
      ]
    },
    {
      "cell_type": "markdown",
      "source": [
        "Gracias a la gráfica y la predicción que se hizo, se puede ver que ese ejemplo de predicción parece certero, ya que en la gráfica se puede ver la predicción para 0.05 y 0.10, y el ejemplo de x=0.07 tiene una predicción que se encuentra justo en medio de las predicciones para x=0.05 y x=0.10; además la gráfica parece que sí sigue la típica forma de una regresión lineal. Asimismo, se puede ver durante los prints de las epochs como poco a poco el modelo va ajustando el error (costo) luego de cada epoch, por lo que se puede decir que el modelo sí va aprendiendo conforme van pasando sus épocas de entrenamiento y al final se ve que puede ser capaz de hacer predicciones."
      ],
      "metadata": {
        "id": "3rhlvEiHZMaP"
      }
    }
  ]
}